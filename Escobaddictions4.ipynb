{
 "cells": [
  {
   "cell_type": "markdown",
   "source": [
    "# PROJET - ESCOBADDICTIONS\n",
    "## 8PRO408 – Outils de programmation pour la science des données\n",
    "### Auteurs : Andonin COUSSEAU / Etienne CHEVROLLIER / Khassan TASSOUEV / Damien BALLET"
   ],
   "metadata": {
    "collapsed": false
   }
  },
  {
   "cell_type": "markdown",
   "source": [
    "--------"
   ],
   "metadata": {
    "collapsed": false
   }
  },
  {
   "cell_type": "markdown",
   "source": [
    "## Etude 4\n",
    "\n",
    "[Lien WorldBank](https://data.worldbank.org/indicator/VC.IHR.PSRC.MA.P5)"
   ],
   "metadata": {
    "collapsed": false
   }
  },
  {
   "cell_type": "markdown",
   "source": [
    "------------"
   ],
   "metadata": {
    "collapsed": false
   }
  },
  {
   "cell_type": "code",
   "execution_count": 19,
   "outputs": [
    {
     "data": {
      "text/plain": "array(['Persons entering prison', 'Persons held',\n       'Persons held unsentenced', 'Mortality in prison',\n       'Persons held under other types of supervision',\n       'Prisons facilities and capacity',\n       'Persons held unsentenced - Regional Estimate'], dtype=object)"
     },
     "execution_count": 19,
     "metadata": {},
     "output_type": "execute_result"
    }
   ],
   "source": [
    "import pandas as pd\n",
    "\n",
    "df = pd.read_csv('data/data_cts_prisons_and_prisoners.csv')\n",
    "\n",
    "df['Indicator'].unique()"
   ],
   "metadata": {
    "collapsed": false,
    "ExecuteTime": {
     "end_time": "2023-06-23T18:19:16.550434600Z",
     "start_time": "2023-06-23T18:19:16.230333600Z"
    }
   }
  },
  {
   "cell_type": "code",
   "execution_count": 20,
   "outputs": [
    {
     "name": "stdout",
     "output_type": "stream",
     "text": [
      "Empty DataFrame\n",
      "Columns: [Iso3_code, Country, Region, Subregion, Indicator, Dimension, Category, Sex, Age, Year, Unit of measurement, VALUE, Source]\n",
      "Index: []\n",
      "Empty DataFrame\n",
      "Columns: [Iso3_code, Country]\n",
      "Index: []\n"
     ]
    }
   ],
   "source": [
    "# Sélection des lignes qui satisfont aux critères donnés\n",
    "filtered_df = df[(df['Category'].isin(['Drug Trafficking', 'Drug Possession'])) &\n",
    "                 (df['Unit of measurement'] == 'Counts') &\n",
    "                 (df['Indicator'] == 'Persons held')]\n",
    "print(filtered_df)\n",
    "# Création du nouveau dataframe avec les colonnes Iso3_code et Country\n",
    "new_df = pd.DataFrame({'Iso3_code': filtered_df['Iso3_code'],\n",
    "                       'Country': filtered_df['Country']})\n",
    "\n",
    "# Pivotage des données pour créer des colonnes distinctes pour chaque année\n",
    "pivot_df = filtered_df.pivot_table(index=['Iso3_code', 'Country'], columns='Year', values='VALUE', aggfunc='sum')\n",
    "\n",
    "# Réinitialisation de l'index\n",
    "pivot_df = pivot_df.reset_index()\n",
    "\n",
    "# Fusion du nouveau dataframe avec le pivotage des données\n",
    "new_df = new_df.merge(pivot_df, on=['Iso3_code', 'Country'], how='left')\n",
    "\n",
    "# Affichage du nouveau dataframe\n",
    "print(new_df)\n"
   ],
   "metadata": {
    "collapsed": false,
    "ExecuteTime": {
     "end_time": "2023-06-23T18:19:36.097165900Z",
     "start_time": "2023-06-23T18:19:35.986563Z"
    }
   }
  },
  {
   "cell_type": "code",
   "execution_count": 5,
   "outputs": [
    {
     "data": {
      "text/plain": "<pandas.core.groupby.generic.DataFrameGroupBy object at 0x00000153910F9610>"
     },
     "execution_count": 5,
     "metadata": {},
     "output_type": "execute_result"
    }
   ],
   "source": [],
   "metadata": {
    "collapsed": false,
    "ExecuteTime": {
     "end_time": "2023-06-23T17:26:17.916804400Z",
     "start_time": "2023-06-23T17:26:17.872911600Z"
    }
   }
  },
  {
   "cell_type": "code",
   "execution_count": null,
   "outputs": [],
   "source": [],
   "metadata": {
    "collapsed": false
   }
  }
 ],
 "metadata": {
  "kernelspec": {
   "display_name": "Python 3",
   "language": "python",
   "name": "python3"
  },
  "language_info": {
   "codemirror_mode": {
    "name": "ipython",
    "version": 2
   },
   "file_extension": ".py",
   "mimetype": "text/x-python",
   "name": "python",
   "nbconvert_exporter": "python",
   "pygments_lexer": "ipython2",
   "version": "2.7.6"
  }
 },
 "nbformat": 4,
 "nbformat_minor": 0
}
