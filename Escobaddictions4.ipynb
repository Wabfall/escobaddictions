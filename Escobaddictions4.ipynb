{
 "cells": [
  {
   "cell_type": "markdown",
   "source": [
    "# PROJET - ESCOBADDICTIONS\n",
    "## 8PRO408 – Outils de programmation pour la science des données\n",
    "### Auteurs : Andonin COUSSEAU / Etienne CHEVROLLIER / Khassan TASSOUEV / Damien BALLET"
   ],
   "metadata": {
    "collapsed": false
   }
  },
  {
   "cell_type": "markdown",
   "source": [
    "--------"
   ],
   "metadata": {
    "collapsed": false
   }
  },
  {
   "cell_type": "markdown",
   "source": [
    "## Etude 4\n",
    "\n",
    "[Lien WorldBank](https://data.worldbank.org/indicator/VC.IHR.PSRC.MA.P5)"
   ],
   "metadata": {
    "collapsed": false
   }
  },
  {
   "cell_type": "markdown",
   "source": [
    "------------"
   ],
   "metadata": {
    "collapsed": false
   }
  },
  {
   "cell_type": "code",
   "execution_count": 4,
   "outputs": [
    {
     "data": {
      "text/plain": "      Iso3_code                            Country    Region  \\\n0           BRB                           Barbados  Americas   \n1           CRI                         Costa Rica  Americas   \n2           DMA                           Dominica  Americas   \n3        GBR_NI  United Kingdom (Northern Ireland)    Europe   \n4           ITA                              Italy    Europe   \n...         ...                                ...       ...   \n65792       ZWE                           Zimbabwe    Africa   \n65793       ZWE                           Zimbabwe    Africa   \n65794       ZWE                           Zimbabwe    Africa   \n65795       ZWE                           Zimbabwe    Africa   \n65796       ZWE                           Zimbabwe    Africa   \n\n                             Subregion                Indicator  \\\n0      Latin America and the Caribbean  Persons entering prison   \n1      Latin America and the Caribbean  Persons entering prison   \n2      Latin America and the Caribbean  Persons entering prison   \n3                      Northern Europe  Persons entering prison   \n4                      Southern Europe  Persons entering prison   \n...                                ...                      ...   \n65792               Sub-Saharan Africa             Persons held   \n65793               Sub-Saharan Africa             Persons held   \n65794               Sub-Saharan Africa             Persons held   \n65795               Sub-Saharan Africa             Persons held   \n65796               Sub-Saharan Africa             Persons held   \n\n               Dimension              Category     Sex    Age  Year  \\\n0      by selected crime  Intentional Homicide   Total  Total  2016   \n1      by selected crime  Intentional Homicide   Total  Total  2016   \n2      by selected crime  Intentional Homicide   Total  Total  2016   \n3      by selected crime  Intentional Homicide   Total  Total  2016   \n4      by selected crime  Intentional Homicide   Total  Total  2016   \n...                  ...                   ...     ...    ...   ...   \n65792              Total                 Total  Female  Total  2008   \n65793              Total                 Total  Female  Total  2017   \n65794              Total                 Total  Female  Total  2018   \n65795              Total                 Total  Female  Total  2019   \n65796              Total                 Total  Female  Total  2020   \n\n               Unit of measurement        VALUE Source  \n0                           Counts            0    CTS  \n1                           Counts          173    CTS  \n2                           Counts           65    CTS  \n3                           Counts           61    CTS  \n4                           Counts         1443    CTS  \n...                            ...          ...    ...  \n65792  Rate per 100 000 population  7 336135476    CTS  \n65793  Rate per 100 000 population  6 081579848    CTS  \n65794  Rate per 100 000 population  4 431232203    CTS  \n65795  Rate per 100 000 population  5 540085721    CTS  \n65796  Rate per 100 000 population  4 454129796    CTS  \n\n[65797 rows x 13 columns]",
      "text/html": "<div>\n<style scoped>\n    .dataframe tbody tr th:only-of-type {\n        vertical-align: middle;\n    }\n\n    .dataframe tbody tr th {\n        vertical-align: top;\n    }\n\n    .dataframe thead th {\n        text-align: right;\n    }\n</style>\n<table border=\"1\" class=\"dataframe\">\n  <thead>\n    <tr style=\"text-align: right;\">\n      <th></th>\n      <th>Iso3_code</th>\n      <th>Country</th>\n      <th>Region</th>\n      <th>Subregion</th>\n      <th>Indicator</th>\n      <th>Dimension</th>\n      <th>Category</th>\n      <th>Sex</th>\n      <th>Age</th>\n      <th>Year</th>\n      <th>Unit of measurement</th>\n      <th>VALUE</th>\n      <th>Source</th>\n    </tr>\n  </thead>\n  <tbody>\n    <tr>\n      <th>0</th>\n      <td>BRB</td>\n      <td>Barbados</td>\n      <td>Americas</td>\n      <td>Latin America and the Caribbean</td>\n      <td>Persons entering prison</td>\n      <td>by selected crime</td>\n      <td>Intentional Homicide</td>\n      <td>Total</td>\n      <td>Total</td>\n      <td>2016</td>\n      <td>Counts</td>\n      <td>0</td>\n      <td>CTS</td>\n    </tr>\n    <tr>\n      <th>1</th>\n      <td>CRI</td>\n      <td>Costa Rica</td>\n      <td>Americas</td>\n      <td>Latin America and the Caribbean</td>\n      <td>Persons entering prison</td>\n      <td>by selected crime</td>\n      <td>Intentional Homicide</td>\n      <td>Total</td>\n      <td>Total</td>\n      <td>2016</td>\n      <td>Counts</td>\n      <td>173</td>\n      <td>CTS</td>\n    </tr>\n    <tr>\n      <th>2</th>\n      <td>DMA</td>\n      <td>Dominica</td>\n      <td>Americas</td>\n      <td>Latin America and the Caribbean</td>\n      <td>Persons entering prison</td>\n      <td>by selected crime</td>\n      <td>Intentional Homicide</td>\n      <td>Total</td>\n      <td>Total</td>\n      <td>2016</td>\n      <td>Counts</td>\n      <td>65</td>\n      <td>CTS</td>\n    </tr>\n    <tr>\n      <th>3</th>\n      <td>GBR_NI</td>\n      <td>United Kingdom (Northern Ireland)</td>\n      <td>Europe</td>\n      <td>Northern Europe</td>\n      <td>Persons entering prison</td>\n      <td>by selected crime</td>\n      <td>Intentional Homicide</td>\n      <td>Total</td>\n      <td>Total</td>\n      <td>2016</td>\n      <td>Counts</td>\n      <td>61</td>\n      <td>CTS</td>\n    </tr>\n    <tr>\n      <th>4</th>\n      <td>ITA</td>\n      <td>Italy</td>\n      <td>Europe</td>\n      <td>Southern Europe</td>\n      <td>Persons entering prison</td>\n      <td>by selected crime</td>\n      <td>Intentional Homicide</td>\n      <td>Total</td>\n      <td>Total</td>\n      <td>2016</td>\n      <td>Counts</td>\n      <td>1443</td>\n      <td>CTS</td>\n    </tr>\n    <tr>\n      <th>...</th>\n      <td>...</td>\n      <td>...</td>\n      <td>...</td>\n      <td>...</td>\n      <td>...</td>\n      <td>...</td>\n      <td>...</td>\n      <td>...</td>\n      <td>...</td>\n      <td>...</td>\n      <td>...</td>\n      <td>...</td>\n      <td>...</td>\n    </tr>\n    <tr>\n      <th>65792</th>\n      <td>ZWE</td>\n      <td>Zimbabwe</td>\n      <td>Africa</td>\n      <td>Sub-Saharan Africa</td>\n      <td>Persons held</td>\n      <td>Total</td>\n      <td>Total</td>\n      <td>Female</td>\n      <td>Total</td>\n      <td>2008</td>\n      <td>Rate per 100 000 population</td>\n      <td>7 336135476</td>\n      <td>CTS</td>\n    </tr>\n    <tr>\n      <th>65793</th>\n      <td>ZWE</td>\n      <td>Zimbabwe</td>\n      <td>Africa</td>\n      <td>Sub-Saharan Africa</td>\n      <td>Persons held</td>\n      <td>Total</td>\n      <td>Total</td>\n      <td>Female</td>\n      <td>Total</td>\n      <td>2017</td>\n      <td>Rate per 100 000 population</td>\n      <td>6 081579848</td>\n      <td>CTS</td>\n    </tr>\n    <tr>\n      <th>65794</th>\n      <td>ZWE</td>\n      <td>Zimbabwe</td>\n      <td>Africa</td>\n      <td>Sub-Saharan Africa</td>\n      <td>Persons held</td>\n      <td>Total</td>\n      <td>Total</td>\n      <td>Female</td>\n      <td>Total</td>\n      <td>2018</td>\n      <td>Rate per 100 000 population</td>\n      <td>4 431232203</td>\n      <td>CTS</td>\n    </tr>\n    <tr>\n      <th>65795</th>\n      <td>ZWE</td>\n      <td>Zimbabwe</td>\n      <td>Africa</td>\n      <td>Sub-Saharan Africa</td>\n      <td>Persons held</td>\n      <td>Total</td>\n      <td>Total</td>\n      <td>Female</td>\n      <td>Total</td>\n      <td>2019</td>\n      <td>Rate per 100 000 population</td>\n      <td>5 540085721</td>\n      <td>CTS</td>\n    </tr>\n    <tr>\n      <th>65796</th>\n      <td>ZWE</td>\n      <td>Zimbabwe</td>\n      <td>Africa</td>\n      <td>Sub-Saharan Africa</td>\n      <td>Persons held</td>\n      <td>Total</td>\n      <td>Total</td>\n      <td>Female</td>\n      <td>Total</td>\n      <td>2020</td>\n      <td>Rate per 100 000 population</td>\n      <td>4 454129796</td>\n      <td>CTS</td>\n    </tr>\n  </tbody>\n</table>\n<p>65797 rows × 13 columns</p>\n</div>"
     },
     "execution_count": 4,
     "metadata": {},
     "output_type": "execute_result"
    }
   ],
   "source": [
    "import pandas as pd\n",
    "\n",
    "df = pd.read_csv('data_cts_prisons_and_prisoners.csv')\n",
    "\n",
    "df"
   ],
   "metadata": {
    "collapsed": false,
    "ExecuteTime": {
     "end_time": "2023-06-23T17:17:58.469922600Z",
     "start_time": "2023-06-23T17:17:58.247024500Z"
    }
   }
  }
 ],
 "metadata": {
  "kernelspec": {
   "display_name": "Python 3",
   "language": "python",
   "name": "python3"
  },
  "language_info": {
   "codemirror_mode": {
    "name": "ipython",
    "version": 2
   },
   "file_extension": ".py",
   "mimetype": "text/x-python",
   "name": "python",
   "nbconvert_exporter": "python",
   "pygments_lexer": "ipython2",
   "version": "2.7.6"
  }
 },
 "nbformat": 4,
 "nbformat_minor": 0
}
