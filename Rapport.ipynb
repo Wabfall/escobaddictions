{
 "cells": [
  {
   "cell_type": "markdown",
   "source": [
    "# PROJET - ESCOBADDICTIONS\n",
    "## 8PRO408 – Outils de programmation pour la science des données\n",
    "### Auteurs : Andonin COUSSEAU / Etienne CHEVROLLIER / Khassan TASSOUEV / Damien BALLET"
   ],
   "metadata": {
    "collapsed": false
   }
  },
  {
   "cell_type": "markdown",
   "source": [
    "## Plan\n",
    "\n",
    "Introduction\n",
    "Contexte du projet\n",
    "Etudes réalisées :\n",
    "- Les morts par type de drogues aux États-Unis\n",
    "- L'utilisation des drogues par tranche d'âge\n",
    "- Lien entre le taux de mort par cocaine et le taux de criminalité\n",
    "- Emprisonnement pour trafic de drogue par an et par pays\n",
    "- Carte interactive Power BI\n",
    "Difficultés rencontrées\n",
    "Perspectives d'améliorations\n",
    "Conclusion"
   ],
   "metadata": {
    "collapsed": false
   }
  },
  {
   "cell_type": "markdown",
   "source": [
    "## Introduction\n",
    "\n",
    "Pour ce projet, nous avons choisi de nous pencher sur les drogues dans le monde. Ce choix a été fortement inspiré par la série Narcos que nous avons visionnée.\n",
    "\n",
    "Le trafic de drogue est un problème mondial qui affecte de nombreux pays et sociétés à travers le monde. Il a des conséquences dévastatrices sur la santé et le bien-être des individus, ainsi que sur la stabilité sociale et économique des communautés. Comprendre les causes profondes de ce phénomène et ses implications est essentiel pour développer des stratégies efficaces de prévention et de lutte.\n",
    "\n",
    "Nous avons cherché des sujets à mettre en relation avec le trafic de drogue ainsi que des décisions politiques ou des événements historiques pouvant être en lien avec l'intensité des trafics de drogue.\n",
    "\n",
    "Ce rapport présente les principales conclusions de notre étude et notre méthodologie de travail, de la période de recherche jusqu'à nos résultats."
   ],
   "metadata": {
    "collapsed": false
   }
  },
  {
   "cell_type": "markdown",
   "source": [
    "--------------------"
   ],
   "metadata": {
    "collapsed": false
   }
  },
  {
   "cell_type": "markdown",
   "source": [
    "## Contexte du projet\n",
    "\n",
    "\n",
    "#### Reflexion sur le contenu du projet\n",
    "Pour ce projet, nous avons choisi de ne pas nous pencher sur une problématique précise, mais plutôt de réaliser une étude que pourrait faire une organisation anti-drogue.\n",
    "\n",
    "En effet l'angle d'approche de ce projet était d'imaginer ce qu'une telle organisation pourrait faire comme étude si elle décidait de se pencher sur l'évolution, l'impact ainsi que les corrélations autour du thème de la drogue.\n",
    "\n",
    "\n",
    "#### Recherche de données et de sujets d'études\n",
    "La première grosse partie du travail a donc été de chercher des sujets d'études ainsi que des données liées à notre thème.\n",
    "Premièrement, nous avons réfléchi à des thèmes d'études qui pouvaient paraître logique, c'est-à-dire des sujets que nous pouvons intuitivement reliés au monde de la drogue. L'exemple le plus parlant est l'étude du lien entre trafic de drogue et taux de criminalité, il est effectivement assez facile de voir un rapport entre trafic de drogue et criminalité. L'intérêt de ce genre de raisonnement est de vérifier si nos idées reçues sont visibles à travers les chiffres et de voir à quel point ces données peuvent être proches.\n",
    "\n",
    "En ce qui concerne la recherche de données, nous avons beaucoup exploré les banques de données, notamment data.world et kaggle mais également des organismes comme l'UNODC (Office des Nations unies contre la drogue et le crime). Nous avons recherché sur ces sites des mots clés autour de la drogue ou autour des sujets que nous souhaitions comparer avec le monde de la drogue.\n",
    "\n",
    "Au final, nous nous sommes aperçus assez rapidement que la recherche de ces deux éléments, nous permettaient de trouver de nouvelles idées. En effet, la recherche de sujets d'études nous permettaient de rechercher davantage de données en explorant d'autres sources de données quand nous ne trouvions pas les données souhaitées. Mais surtout, la recherche de données nous a permis de trouver des sujets d'études en tombant lors de nos recherches sur des données qui nous ont parues intéressantes à mettre en relation avec notre thème de la drogue.\n",
    "\n",
    "\n",
    "#### Analyse et traitement\n",
    "Quand nous sélectionnions des données, une autre grande partie du travail était de faire un travail d'analyse afin de voir la pertinence et l'exploitabilité de ces données.\n",
    "Nous avons trouvé beaucoup de données inutilisables avec nos besoins.\n",
    "Le principal problème était le manque d'informations sur le contenu des jeux de données, nous en avons vu beaucoup avec des colonnes ne possédant pas de noms explicites sur les valeurs et sans moyens de comprendre ce que ces colonnes représentées.\n",
    "Nous avons eu également des problèmes de données manquantes, quand il y a trop de données vides et que nous souhaitons mettre en relation deux jeux de données, les valeurs manquantes s'accumulent et nous arrivons vite à une analyse impossible.\n",
    "\n",
    "Après avoir sélectionné nos données exploitables et nos sujets d'études, nous avons pu commencer à mettre en forme nos données, à réaliser nos études et à interpreter nos résultats. Nous reviendrons sur cette partie plus tard dans le rapport.\n",
    "\n",
    "\n",
    "#### Outils utilisés\n",
    "Pour ce projet, nous avons utilisé python pour le traitement et l'analyse de données avec notamment les librairies pandas et numpy étant donné que le cours précédent ce projet était basé principalement sur ces librairies. Pour le travail de groupe, nous nous sommes servis de GitHub pour nous aider sur la mise en commun du travail de groupe. En enfin, nous avons utilisé légèrement Power Bi afin de créer quelques visuels interactifs sur nos analyses."
   ],
   "metadata": {
    "collapsed": false
   }
  },
  {
   "cell_type": "markdown",
   "source": [
    "----------------"
   ],
   "metadata": {
    "collapsed": false
   }
  },
  {
   "cell_type": "markdown",
   "source": [
    "## Études réalisées"
   ],
   "metadata": {
    "collapsed": false
   }
  },
  {
   "cell_type": "markdown",
   "source": [
    "### Les morts par type de drogues aux États-Unis\n",
    "\n",
    "Lien Jupyter Notebook : [Etude mort par type de drogue](Escobaddictions.ipynb)\n",
    "\n",
    "Nous avons réalisé une étude approfondie sur les décès liés à l'utilisation de différentes drogues aux États-Unis. Cette étude repose sur un ensemble de données provenant d'une enquête menée par le Bureau du médecin légiste en chef, couvrant la période de 2012 à 2018. Les données comprennent des informations sur les décès accidentels liés à une surdose de drogue, ainsi que des détails sur les substances détectées lors de ces décès.\n",
    "\n",
    "Il est ici bien important de comprendre que les données indiquent parmi les décès liés à une overdose de drogue, à quelle fréquence (en %) était présente chaque type de drogue dans le sang. Étant donné que bien souvent lors d'une overdose, on constate la présence de plusieurs drogues différentes, la somme des pourcentages dépassent 100%.\n",
    "\n",
    "L'objectif principal de cette étude était de comprendre les tendances et les caractéristiques des décès liés à chaque type de drogue. Nous avons examiné différentes drogues telles que l'héroïne, la cocaïne, le fentanyl, l'oxycodone, l'alcool, les benzodiazépines, les amphétamines et d'autres substances.\n",
    "\n",
    "Pour chaque drogue, nous avons extrait des informations clés, notamment le pourcentage de décès attribués à cette drogue par rapport à l'ensemble des décès étudiés. Nous avons également analysé la répartition des décès par sexe, en calculant le pourcentage d'hommes et de femmes par drogue.\n",
    "\n",
    "Les résultats de notre étude ont révélé des insights importants sur les modèles de mortalité liés aux différentes drogues aux États-Unis. Voici quelques-unes des conclusions clés :\n",
    "- L'héroïne : Cette drogue a été associée à un pourcentage élevé de décès. Les décès liés à l'héroïne concernaient souvent des personnes de différents sexes.\n",
    "- La cocaïne : Bien que le pourcentage de décès liés à la cocaïne soit moins élevé que celui de l'héroïne, elle reste une cause importante de mortalité. Les décès liés à la cocaïne étaient répartis de manière équilibrée entre les sexes.\n",
    "- Le fentanyl : Cette substance synthétique a connu une augmentation significative des décès au cours de la période étudiée. Les décès liés au fentanyl étaient plus fréquents chez les hommes.\n",
    "- En proportion chez les femmes, les overdoses sont causées par des anti-douleurs et anti-dépresseurs (tandis que chez les hommes, les overdoses sont plus causées par du fentanyl, de l’heroine, alcool et de la cocaïne)\n",
    "\n",
    "Nous avons également pensé que dans le cadre d'une agence anti-drogue comme nous faisons, qu'il est probablement plus simple d’agir sur la gestion des anti-douleurs et des anti-dépresseurs que sur les drogues plus “classiques”, en faisant de la prévention dès la prescription et en incitant les médecins à une utilisation “raisonnée”.\n",
    "\n",
    "##### Voir page 1 du Power Bi pour une représentation interactive des résultats"
   ],
   "metadata": {
    "collapsed": false
   }
  },
  {
   "cell_type": "markdown",
   "source": [
    "---------"
   ],
   "metadata": {
    "collapsed": false
   }
  },
  {
   "cell_type": "markdown",
   "source": [
    "### L'utilisation des drogues par tranche d'âge\n",
    "\n",
    "Lien Jupyter Notebook : [Drogue par tranche d'age](Escobaddictions2.ipynb)\n",
    "\n",
    "Nous avons réalisé une étude approfondie sur l'utilisation des drogues aux États-Unis en fonction des différentes tranches d'âge. Cette étude s'appuie sur un ensemble de données complet disponible sur Kaggle, qui fournit des informations sur le pourcentage de personnes d'un groupe d'âge ayant consommé différentes drogues au cours des 12 derniers mois, ainsi que le nombre médian de fois qu'un consommateur d'un groupe d'âge a consommé chaque drogue.\n",
    "\n",
    "L'ensemble de données comprend des informations pour différentes tranches d'âge, allant de 12 ans et moins jusqu'à 65 ans et +. Chaque tranche d'âge est associée à des statistiques sur l'utilisation de différentes drogues, telles que l'alcool, la marijuana, la cocaïne, le crack, l'héroïne, les hallucinogènes, les analgésiques, les tranquillisants, les stimulants, la méthamphétamine et les sédatifs.\n",
    "\n",
    "Pour chaque drogue, nous avons analysé le pourcentage de personnes de chaque tranche d'âge ayant consommé cette drogue au cours des 12 derniers mois, ainsi que le nombre médian de fois qu'un consommateur de chaque groupe d'âge a consommé la drogue. Ces données nous permettent de mieux comprendre les tendances de consommation de drogues par tranche d'âge et d'identifier les groupes les plus touchés.\n",
    "\n",
    "L'étude met en évidence les variations significatives dans l'utilisation des drogues en fonction de l'âge. Par exemple, nous constatons que la consommation d'alcool augmente régulièrement avec l'âge, atteignant un pourcentage élevé chez les jeunes adultes de 22-23 ans. La consommation de marijuana est également élevée chez les jeunes adultes, mais atteint un pic chez les personnes de 18 ans. En revanche, la consommation de crack et d'héroïne est relativement faible dans toutes les tranches d'âge. Nous pouvons aussi voir que les drogues par inhalation sont principalement consommées par des ados.\n",
    "\n",
    "En conclusion, cette étude nous permet de mieux comprendre les habitudes de consommation de drogues selon l'âge et met en évidence les groupes les plus vulnérables. Ces informations sont précieuses pour les décideurs politiques, les professionnels de la santé et les organismes de prévention afin de développer des stratégies de prévention et de sensibilisation ciblées pour réduire les risques liés à l'utilisation de drogues.\n",
    "\n",
    "##### Voir page 2 du Power Bi pour une représentation des résultats"
   ],
   "metadata": {
    "collapsed": false
   }
  },
  {
   "cell_type": "markdown",
   "source": [
    "### Lien entre le taux de mort par cocaine et le taux de criminalité\n",
    "\n",
    "Lien Jupyter Notebook : [Criminalité & mort par cocaine](Escobaddictions3.ipynb)\n",
    "\n",
    "Nous avons réalisé une étude visant à explorer la corrélation potentielle entre le taux de mortalité dû à la consommation de cocaïne et le taux de criminalité dans différents pays. Pour ce faire, nous avons utilisé deux ensembles de données : le taux de mortalité dû à la consommation de cocaïne standardisé par âge et le taux de criminalité mesuré par le nombre d'homicides volontaires pour 100 000 personnes.\n",
    "\n",
    "Tout d'abord, nous avons extrait les données relatives au taux de criminalité à partir du fichier CSV contenant les informations sur les homicides volontaires. Nous avons sélectionné les colonnes pertinentes, notamment le nom du pays, le code du pays et les données annuelles sur les homicides volontaires de 1990 à 2022. Ensuite, nous avons effectué un nettoyage des données en éliminant les pays qui présentaient un nombre significatif de valeurs manquantes. Nous avons calculé le nombre de valeurs non nuls requis pour qu'un pays soit inclus dans notre étude en fonction de la période d'observation.\n",
    "\n",
    "De manière similaire, nous avons extrait les données relatives à la mortalité due à la consommation de cocaïne à partir d'un autre fichier CSV. Les données étaient fournies sous forme de taux standardisés par âge pour chaque année et pays. Nous avons effectué une opération de pivotement pour obtenir un tableau plus lisible, où chaque pays était une ligne et chaque année était une colonne. Nous avons également calculé les différences entre les années consécutives pour chaque pays, afin d'observer les tendances dans les taux de mortalité d'une année à l'autre.\n",
    "\n",
    "Ensuite, nous avons réalisé une analyse exploratoire en comparant les évolutions temporelles du taux de mortalité dû à la consommation de cocaïne et du taux de criminalité pour les années disponibles (jusqu'en 2019). Pour cela, nous avons transposé les tableaux de données, ce qui nous a permis de comparer les mêmes années entre les deux ensembles de données. Nous avons identifié les colonnes communes aux deux tableaux de données pour nous concentrer sur les pays pour lesquels nous disposions de données pertinentes à la fois sur le taux de mortalité dû à la consommation de cocaïne et sur le taux de criminalité.\n",
    "\n",
    "À partir de ces données communes, nous avons calculé la corrélation entre les deux variables pour chaque pays. Nous avons utilisé la méthode de la covariance normalisée pour mesurer la force et la direction de la corrélation entre les deux ensembles de données. Une corrélation positive indique une relation directe, tandis qu'une corrélation négative indique une relation inverse.\n",
    "\n",
    "Les résultats de notre analyse ont révélé plusieurs pays présentant une corrélation significative entre le taux de mortalité dû à la consommation de cocaïne et le taux de criminalité. Les pays les plus fortement corrélés étaient Israël, le Venezuela, la Russie, l'Espagne et le Canada. Ces pays ont montré des coefficients de corrélation positifs élevés, suggérant une relation directe entre le taux de mortalité dû à la consommation de cocaïne et le taux de criminalité.\n",
    "![Image résultat](Img/Cocaine_criminalité.png)\n",
    "\n",
    "Cependant, il convient de noter que la corrélation ne signifie pas nécessairement une relation de cause à effet. D'autres facteurs et variables peuvent influencer à la fois le taux de mortalité dû à la consommation de cocaïne et le taux de criminalité dans ces pays.\n"
   ],
   "metadata": {
    "collapsed": false
   }
  },
  {
   "cell_type": "markdown",
   "source": [
    "-------------"
   ],
   "metadata": {
    "collapsed": false
   }
  },
  {
   "cell_type": "markdown",
   "source": [
    "### Emprisonnement pour trafic de drogue par an et par pays\n",
    "\n",
    "Lien Jupyter Notebook : [Emprisonnement pour trafic ou possession de drogue](Escobaddictions4.ipynb)\n",
    "\n",
    "Dans cette étude, nous avons analysé les données sur les emprisonnements pour trafic ou possession de drogue dans différents pays afin d'observer leur évolution au fil des années. Notre objectif principal était de comprendre les tendances et les variations de ces chiffres sans nécessairement établir un lien direct avec le taux de criminalité global.\n",
    "\n",
    "Nous avons utilisé un ensemble de données qui fournissait des informations sur les personnes entrant en prison pour trafic de drogue et possession de drogue, en précisant le pays, l'année et le nombre de personnes concernées.\n",
    "\n",
    "Dans un premier temps, nous avons extrait les colonnes pertinentes du DataFrame initial, telles que le pays, l'indicateur, la catégorie, l'unité de mesure, l'année et la valeur (nombre de personnes). Ensuite, nous avons filtré les données pour ne conserver que celles relatives au trafic de drogue, en vérifiant que l'indicateur était \"Persons entering prison\" (personnes entrant en prison).\n",
    "\n",
    "Une fois les données filtrées, nous avons créé un DataFrame qui présentait les informations sur les personnes entrant en prison pour trafic de drogue par pays et par année. Nous avons utilisé la méthode de pivotement pour réorganiser les données, obtenant ainsi un tableau où les années étaient les colonnes et les pays étaient les lignes. Ce tableau donnait le nombre total de personnes entrant en prison pour trafic de drogue pour chaque année et chaque pays.\n",
    "\n",
    "Nous avons également effectué la même démarche pour obtenir un autre DataFrame sur les personnes entrant en prison pour possession de drogue par pays et par année. Nous avons filtré les données en utilisant la catégorie \"Drug Possession\" (possession de drogue) cette fois-ci.\n",
    "\n",
    "Cette étude nous a permis de visualiser l'évolution des emprisonnements pour trafic ou possession de drogue dans différents pays au fil des années. Nous avons pu observer les variations annuelles et les différences entre les pays en termes de chiffres. Cependant, il est important de noter que cette étude ne vise pas à établir un lien direct avec le taux de criminalité global, mais plutôt à fournir une analyse descriptive des emprisonnements pour trafic ou possession de drogue.\n",
    "\n",
    "En conclusion, cette étude met en évidence l'évolution des emprisonnements pour trafic ou possession de drogue par pays et par an. Elle fournit des informations importantes sur les tendances et les variations de ces chiffres, ce qui peut être utile pour comprendre l'impact des politiques de lutte contre la drogue dans différents pays."
   ],
   "metadata": {
    "collapsed": false
   }
  },
  {
   "cell_type": "markdown",
   "source": [
    "------------"
   ],
   "metadata": {
    "collapsed": false
   }
  },
  {
   "cell_type": "markdown",
   "source": [
    "### Carte interactive Power Bi\n",
    "\n",
    "L'objectif de cette carte interactive visible en page 3 du Power Bi est de représenter le taux de mort lié à la cocaine dans les pays du monde entre 1990 et 2019 lorsque nous avons les données. Il est possible de sélectionner une ou plusieurs années est d'ainsi constater les évolutions et l'importance de la cocaine dans les pays.\n",
    "\n",
    "Il faut prendre en compte que beaucoup de pays communiquent peu le sujet ou ne font pas d'études spécifiques pour déterminer si la cause de la mort était lié à la cocaine ou non.\n"
   ],
   "metadata": {
    "collapsed": false
   }
  },
  {
   "cell_type": "markdown",
   "source": [
    "-----------------"
   ],
   "metadata": {
    "collapsed": false
   }
  },
  {
   "cell_type": "markdown",
   "source": [
    "### Difficultés rencontrées\n",
    "\n",
    "En ce qui concerne les difficultés rencontrées, nous avons surtout dù faire face aux problèmes liés aux données tels que les données manquantes ou encore le manque d'informations sur ces données. Mais à force de recherches et de traitement, nous avons pù trouver assez de données pour obtenir des résultats satisfaisants."
   ],
   "metadata": {
    "collapsed": false
   }
  },
  {
   "cell_type": "markdown",
   "source": [
    "------------"
   ],
   "metadata": {
    "collapsed": false
   }
  },
  {
   "cell_type": "markdown",
   "source": [
    "### Perspectives d'améliorations\n",
    "\n",
    "En ce qui concerne les améliorations possibles pour notre projet, il est surtout possible de trouver davantage de sujet d'études et de jeux de données pour completer notre travail. Un autre point serait également de trouver des facteurs sociaux et politiques qui peuvent expliquer les différentes variations.\n",
    "\n",
    "Nous pourrions également développer la partie Power BI pour avoir des résultats plus facilement lisibles et compréhensibles."
   ],
   "metadata": {
    "collapsed": false
   }
  },
  {
   "cell_type": "markdown",
   "source": [
    "-----------"
   ],
   "metadata": {
    "collapsed": false
   }
  },
  {
   "cell_type": "markdown",
   "source": [
    "### Conclusion\n",
    "\n",
    "En conclusion, notre étude approfondie sur les drogues dans le monde a permis de mettre en évidence plusieurs aspects importants liés à ce problème mondial. Nous avons analysé les décès par type de drogues aux États-Unis, l'utilisation des drogues par tranche d'âge, le lien entre le taux de mort par cocaïne et le taux de criminalité, ainsi que l'emprisonnement pour trafic de drogue par an et par pays. De plus, nous avons créé une carte interactive Power BI pour visualiser les données.\n",
    "\n",
    "Grâce à notre étude, nous avons pu tirer certaines conclusions clés. Nous avons constaté que l'héroïne et la cocaïne étaient associées à un pourcentage élevé de décès aux États-Unis, et que le fentanyl avait connu une augmentation significative des décès au fil des années. Les tendances de consommation de drogues variaient également en fonction de l'âge, avec une augmentation de la consommation d'alcool chez les jeunes adultes et une consommation plus élevée de marijuana chez les personnes de 18 ans. Nous avons aussi observé des corrélations potentielles entre le taux de mortalité par cocaïne et le taux de criminalité dans différents pays.\n",
    "\n",
    "Malgré les difficultés rencontrées, telles que le manque d'informations détaillées dans certaines bases de données et les données manquantes, notre étude a fourni des informations précieuses pour mieux comprendre les problèmes liés aux drogues. Ces connaissances peuvent être utilisées pour développer des stratégies de prévention, de sensibilisation et de lutte contre le trafic de drogue.\n",
    "\n",
    "Pour améliorer nos recherches à l'avenir, il serait bénéfique d'avoir accès à des données plus complètes et détaillées, ainsi qu'à des informations sur les politiques de lutte contre la drogue mises en place par les différents pays. Cela permettrait d'approfondir notre compréhension des facteurs qui contribuent au problème mondial des drogues et d'identifier des solutions plus efficaces."
   ],
   "metadata": {
    "collapsed": false
   }
  }
 ],
 "metadata": {
  "kernelspec": {
   "display_name": "Python 3",
   "language": "python",
   "name": "python3"
  },
  "language_info": {
   "codemirror_mode": {
    "name": "ipython",
    "version": 2
   },
   "file_extension": ".py",
   "mimetype": "text/x-python",
   "name": "python",
   "nbconvert_exporter": "python",
   "pygments_lexer": "ipython2",
   "version": "2.7.6"
  }
 },
 "nbformat": 4,
 "nbformat_minor": 0
}
