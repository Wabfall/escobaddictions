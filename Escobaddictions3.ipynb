{
 "cells": [
  {
   "cell_type": "markdown",
   "source": [
    "# PROJET - ESCOBADDICTIONS\n",
    "## 8PRO408 – Outils de programmation pour la science des données\n",
    "### Auteurs : Andonin COUSSEAU / Etienne CHEVROLLIER / Khassan TASSOUEV / Damien BALLET"
   ],
   "metadata": {
    "collapsed": false
   }
  },
  {
   "cell_type": "markdown",
   "source": [
    "--------"
   ],
   "metadata": {
    "collapsed": false
   }
  },
  {
   "cell_type": "markdown",
   "source": [
    "## Etude 3 - Lien entre le taux de mort par cocaine et le taux de criminalité\n",
    "\n",
    "[Lien WorldBank](https://data.worldbank.org/indicator/VC.IHR.PSRC.MA.P5)"
   ],
   "metadata": {
    "collapsed": false
   }
  },
  {
   "cell_type": "markdown",
   "source": [
    "------------"
   ],
   "metadata": {
    "collapsed": false
   }
  },
  {
   "cell_type": "code",
   "execution_count": 90,
   "outputs": [],
   "source": [
    "import pandas as pd\n",
    "\n",
    "df = pd.read_csv('data/murder/API_VC.IHR.PSRC.MA.P5_DS2_en_csv_v2_5564733.csv', skiprows = 3, header = 0)"
   ],
   "metadata": {
    "collapsed": false,
    "ExecuteTime": {
     "end_time": "2023-06-22T05:16:00.274143600Z",
     "start_time": "2023-06-22T05:16:00.239086300Z"
    }
   }
  },
  {
   "cell_type": "code",
   "execution_count": 91,
   "outputs": [
    {
     "data": {
      "text/plain": "                           Entity      1990  1991  1992  1993  1994  \\\nCode                                                                  \nABW                         Aruba  0.000000   NaN   NaN   NaN   NaN   \nAFE   Africa Eastern and Southern       NaN   NaN   NaN   NaN   NaN   \nAFG                   Afghanistan       NaN   NaN   NaN   NaN   NaN   \nAFW    Africa Western and Central       NaN   NaN   NaN   NaN   NaN   \nAGO                        Angola       NaN   NaN   NaN   NaN   NaN   \n...                           ...       ...   ...   ...   ...   ...   \nXKX                        Kosovo       NaN   NaN   NaN   NaN   NaN   \nYEM                   Yemen, Rep.       NaN   NaN   NaN   NaN   NaN   \nZAF                  South Africa       NaN   NaN   NaN   NaN   NaN   \nZMB                        Zambia       NaN   NaN   NaN   NaN   NaN   \nZWE                      Zimbabwe  8.302435   NaN   NaN   NaN   NaN   \n\n           1995  1996  1997  1998  ...      2014       2015       2016  \\\nCode                               ...                                   \nABW   16.074801   NaN   NaN   NaN  ...  4.065784        NaN        NaN   \nAFE         NaN   NaN   NaN   NaN  ...       NaN        NaN        NaN   \nAFG         NaN   NaN   NaN   NaN  ...       NaN  18.511644  12.190030   \nAFW         NaN   NaN   NaN   NaN  ...       NaN        NaN        NaN   \nAGO         NaN   NaN   NaN   NaN  ...       NaN        NaN        NaN   \n...         ...   ...   ...   ...  ...       ...        ...        ...   \nXKX         NaN   NaN   NaN   NaN  ...  4.846974   3.646005   3.434958   \nYEM         NaN   NaN   NaN   NaN  ...       NaN        NaN        NaN   \nZAF         NaN   NaN   NaN   NaN  ...       NaN        NaN  59.730474   \nZMB         NaN   NaN   NaN   NaN  ...       NaN        NaN        NaN   \nZWE         NaN   NaN   NaN   NaN  ...       NaN        NaN        NaN   \n\n           2017       2018       2019      2020       2021  2022  Unnamed: 67  \nCode                                                                           \nABW         NaN        NaN        NaN       NaN        NaN   NaN          NaN  \nAFE         NaN        NaN        NaN       NaN        NaN   NaN          NaN  \nAFG   12.282875  12.156260        NaN       NaN        NaN   NaN          NaN  \nAFW         NaN        NaN        NaN       NaN        NaN   NaN          NaN  \nAGO         NaN        NaN        NaN       NaN        NaN   NaN          NaN  \n...         ...        ...        ...       ...        ...   ...          ...  \nXKX    4.052007   4.103817   2.496205  3.481223        NaN   NaN          NaN  \nYEM         NaN        NaN        NaN       NaN        NaN   NaN          NaN  \nZAF   63.443761  65.598344  66.045214       NaN        NaN   NaN          NaN  \nZMB         NaN        NaN        NaN       NaN        NaN   NaN          NaN  \nZWE         NaN   8.058140   8.614504  8.584714  10.923036   NaN          NaN  \n\n[266 rows x 35 columns]",
      "text/html": "<div>\n<style scoped>\n    .dataframe tbody tr th:only-of-type {\n        vertical-align: middle;\n    }\n\n    .dataframe tbody tr th {\n        vertical-align: top;\n    }\n\n    .dataframe thead th {\n        text-align: right;\n    }\n</style>\n<table border=\"1\" class=\"dataframe\">\n  <thead>\n    <tr style=\"text-align: right;\">\n      <th></th>\n      <th>Entity</th>\n      <th>1990</th>\n      <th>1991</th>\n      <th>1992</th>\n      <th>1993</th>\n      <th>1994</th>\n      <th>1995</th>\n      <th>1996</th>\n      <th>1997</th>\n      <th>1998</th>\n      <th>...</th>\n      <th>2014</th>\n      <th>2015</th>\n      <th>2016</th>\n      <th>2017</th>\n      <th>2018</th>\n      <th>2019</th>\n      <th>2020</th>\n      <th>2021</th>\n      <th>2022</th>\n      <th>Unnamed: 67</th>\n    </tr>\n    <tr>\n      <th>Code</th>\n      <th></th>\n      <th></th>\n      <th></th>\n      <th></th>\n      <th></th>\n      <th></th>\n      <th></th>\n      <th></th>\n      <th></th>\n      <th></th>\n      <th></th>\n      <th></th>\n      <th></th>\n      <th></th>\n      <th></th>\n      <th></th>\n      <th></th>\n      <th></th>\n      <th></th>\n      <th></th>\n      <th></th>\n    </tr>\n  </thead>\n  <tbody>\n    <tr>\n      <th>ABW</th>\n      <td>Aruba</td>\n      <td>0.000000</td>\n      <td>NaN</td>\n      <td>NaN</td>\n      <td>NaN</td>\n      <td>NaN</td>\n      <td>16.074801</td>\n      <td>NaN</td>\n      <td>NaN</td>\n      <td>NaN</td>\n      <td>...</td>\n      <td>4.065784</td>\n      <td>NaN</td>\n      <td>NaN</td>\n      <td>NaN</td>\n      <td>NaN</td>\n      <td>NaN</td>\n      <td>NaN</td>\n      <td>NaN</td>\n      <td>NaN</td>\n      <td>NaN</td>\n    </tr>\n    <tr>\n      <th>AFE</th>\n      <td>Africa Eastern and Southern</td>\n      <td>NaN</td>\n      <td>NaN</td>\n      <td>NaN</td>\n      <td>NaN</td>\n      <td>NaN</td>\n      <td>NaN</td>\n      <td>NaN</td>\n      <td>NaN</td>\n      <td>NaN</td>\n      <td>...</td>\n      <td>NaN</td>\n      <td>NaN</td>\n      <td>NaN</td>\n      <td>NaN</td>\n      <td>NaN</td>\n      <td>NaN</td>\n      <td>NaN</td>\n      <td>NaN</td>\n      <td>NaN</td>\n      <td>NaN</td>\n    </tr>\n    <tr>\n      <th>AFG</th>\n      <td>Afghanistan</td>\n      <td>NaN</td>\n      <td>NaN</td>\n      <td>NaN</td>\n      <td>NaN</td>\n      <td>NaN</td>\n      <td>NaN</td>\n      <td>NaN</td>\n      <td>NaN</td>\n      <td>NaN</td>\n      <td>...</td>\n      <td>NaN</td>\n      <td>18.511644</td>\n      <td>12.190030</td>\n      <td>12.282875</td>\n      <td>12.156260</td>\n      <td>NaN</td>\n      <td>NaN</td>\n      <td>NaN</td>\n      <td>NaN</td>\n      <td>NaN</td>\n    </tr>\n    <tr>\n      <th>AFW</th>\n      <td>Africa Western and Central</td>\n      <td>NaN</td>\n      <td>NaN</td>\n      <td>NaN</td>\n      <td>NaN</td>\n      <td>NaN</td>\n      <td>NaN</td>\n      <td>NaN</td>\n      <td>NaN</td>\n      <td>NaN</td>\n      <td>...</td>\n      <td>NaN</td>\n      <td>NaN</td>\n      <td>NaN</td>\n      <td>NaN</td>\n      <td>NaN</td>\n      <td>NaN</td>\n      <td>NaN</td>\n      <td>NaN</td>\n      <td>NaN</td>\n      <td>NaN</td>\n    </tr>\n    <tr>\n      <th>AGO</th>\n      <td>Angola</td>\n      <td>NaN</td>\n      <td>NaN</td>\n      <td>NaN</td>\n      <td>NaN</td>\n      <td>NaN</td>\n      <td>NaN</td>\n      <td>NaN</td>\n      <td>NaN</td>\n      <td>NaN</td>\n      <td>...</td>\n      <td>NaN</td>\n      <td>NaN</td>\n      <td>NaN</td>\n      <td>NaN</td>\n      <td>NaN</td>\n      <td>NaN</td>\n      <td>NaN</td>\n      <td>NaN</td>\n      <td>NaN</td>\n      <td>NaN</td>\n    </tr>\n    <tr>\n      <th>...</th>\n      <td>...</td>\n      <td>...</td>\n      <td>...</td>\n      <td>...</td>\n      <td>...</td>\n      <td>...</td>\n      <td>...</td>\n      <td>...</td>\n      <td>...</td>\n      <td>...</td>\n      <td>...</td>\n      <td>...</td>\n      <td>...</td>\n      <td>...</td>\n      <td>...</td>\n      <td>...</td>\n      <td>...</td>\n      <td>...</td>\n      <td>...</td>\n      <td>...</td>\n      <td>...</td>\n    </tr>\n    <tr>\n      <th>XKX</th>\n      <td>Kosovo</td>\n      <td>NaN</td>\n      <td>NaN</td>\n      <td>NaN</td>\n      <td>NaN</td>\n      <td>NaN</td>\n      <td>NaN</td>\n      <td>NaN</td>\n      <td>NaN</td>\n      <td>NaN</td>\n      <td>...</td>\n      <td>4.846974</td>\n      <td>3.646005</td>\n      <td>3.434958</td>\n      <td>4.052007</td>\n      <td>4.103817</td>\n      <td>2.496205</td>\n      <td>3.481223</td>\n      <td>NaN</td>\n      <td>NaN</td>\n      <td>NaN</td>\n    </tr>\n    <tr>\n      <th>YEM</th>\n      <td>Yemen, Rep.</td>\n      <td>NaN</td>\n      <td>NaN</td>\n      <td>NaN</td>\n      <td>NaN</td>\n      <td>NaN</td>\n      <td>NaN</td>\n      <td>NaN</td>\n      <td>NaN</td>\n      <td>NaN</td>\n      <td>...</td>\n      <td>NaN</td>\n      <td>NaN</td>\n      <td>NaN</td>\n      <td>NaN</td>\n      <td>NaN</td>\n      <td>NaN</td>\n      <td>NaN</td>\n      <td>NaN</td>\n      <td>NaN</td>\n      <td>NaN</td>\n    </tr>\n    <tr>\n      <th>ZAF</th>\n      <td>South Africa</td>\n      <td>NaN</td>\n      <td>NaN</td>\n      <td>NaN</td>\n      <td>NaN</td>\n      <td>NaN</td>\n      <td>NaN</td>\n      <td>NaN</td>\n      <td>NaN</td>\n      <td>NaN</td>\n      <td>...</td>\n      <td>NaN</td>\n      <td>NaN</td>\n      <td>59.730474</td>\n      <td>63.443761</td>\n      <td>65.598344</td>\n      <td>66.045214</td>\n      <td>NaN</td>\n      <td>NaN</td>\n      <td>NaN</td>\n      <td>NaN</td>\n    </tr>\n    <tr>\n      <th>ZMB</th>\n      <td>Zambia</td>\n      <td>NaN</td>\n      <td>NaN</td>\n      <td>NaN</td>\n      <td>NaN</td>\n      <td>NaN</td>\n      <td>NaN</td>\n      <td>NaN</td>\n      <td>NaN</td>\n      <td>NaN</td>\n      <td>...</td>\n      <td>NaN</td>\n      <td>NaN</td>\n      <td>NaN</td>\n      <td>NaN</td>\n      <td>NaN</td>\n      <td>NaN</td>\n      <td>NaN</td>\n      <td>NaN</td>\n      <td>NaN</td>\n      <td>NaN</td>\n    </tr>\n    <tr>\n      <th>ZWE</th>\n      <td>Zimbabwe</td>\n      <td>8.302435</td>\n      <td>NaN</td>\n      <td>NaN</td>\n      <td>NaN</td>\n      <td>NaN</td>\n      <td>NaN</td>\n      <td>NaN</td>\n      <td>NaN</td>\n      <td>NaN</td>\n      <td>...</td>\n      <td>NaN</td>\n      <td>NaN</td>\n      <td>NaN</td>\n      <td>NaN</td>\n      <td>8.058140</td>\n      <td>8.614504</td>\n      <td>8.584714</td>\n      <td>10.923036</td>\n      <td>NaN</td>\n      <td>NaN</td>\n    </tr>\n  </tbody>\n</table>\n<p>266 rows × 35 columns</p>\n</div>"
     },
     "execution_count": 91,
     "metadata": {},
     "output_type": "execute_result"
    }
   ],
   "source": [
    "df = df.loc[:, ['Country Name', 'Country Code'] + list(df.loc[:, '1990':])]\n",
    "df = df.rename(columns = {'Country Code' : 'Code', 'Country Name' : 'Entity'})\n",
    "df.set_index(\"Code\")\n"
   ],
   "metadata": {
    "collapsed": false,
    "ExecuteTime": {
     "end_time": "2023-06-22T05:16:00.480987300Z",
     "start_time": "2023-06-22T05:16:00.382204Z"
    }
   }
  },
  {
   "cell_type": "code",
   "execution_count": 92,
   "outputs": [],
   "source": [
    "df_2 = pd.read_csv('data/drogues/death-rates-cocaine.csv', header = 0)"
   ],
   "metadata": {
    "collapsed": false,
    "ExecuteTime": {
     "end_time": "2023-06-22T05:16:00.560557300Z",
     "start_time": "2023-06-22T05:16:00.485614300Z"
    }
   }
  },
  {
   "cell_type": "code",
   "execution_count": 93,
   "outputs": [],
   "source": [
    "df_2 = df_2.rename(columns={'Deaths - Cocaine use disorders - Sex: Both - Age: Age-standardized (Rate)' : 'Death_Cocaine'})"
   ],
   "metadata": {
    "collapsed": false,
    "ExecuteTime": {
     "end_time": "2023-06-22T05:16:00.760000700Z",
     "start_time": "2023-06-22T05:16:00.620032800Z"
    }
   }
  },
  {
   "cell_type": "code",
   "execution_count": 94,
   "outputs": [
    {
     "data": {
      "text/plain": "Year                Entity      1990      1991      1992      1993      1994  \\\nCode                                                                           \nAFG            Afghanistan  0.039427  0.039720  0.040313  0.041282  0.042203   \nAGO                 Angola  0.015872  0.015988  0.016228  0.016562  0.016777   \nALB                Albania  0.001465  0.002111  0.002464  0.003790  0.005654   \nAND                Andorra  0.009574  0.009798  0.009949  0.010001  0.009970   \nARE   United Arab Emirates  0.199454  0.216925  0.236998  0.258539  0.280758   \n...                    ...       ...       ...       ...       ...       ...   \nWSM                  Samoa  0.020597  0.020981  0.021249  0.021144  0.021110   \nYEM                  Yemen  0.022960  0.023134  0.023574  0.024046  0.024670   \nZAF           South Africa  0.083247  0.085878  0.093194  0.085748  0.090242   \nZMB                 Zambia  0.013639  0.014431  0.015078  0.015738  0.016432   \nZWE               Zimbabwe  0.085371  0.087328  0.092967  0.097901  0.104990   \n\nYear      1995      1996      1997      1998  ...      2010      2011  \\\nCode                                          ...                       \nAFG   0.042757  0.043227  0.043820  0.044234  ...  0.052037  0.052579   \nAGO   0.016468  0.015717  0.015577  0.016284  ...  0.021239  0.022222   \nALB   0.007035  0.008206  0.008859  0.010921  ...  0.015320  0.015727   \nAND   0.009865  0.009812  0.009767  0.009772  ...  0.012056  0.011889   \nARE   0.305722  0.330694  0.359268  0.384823  ...  0.590011  0.599523   \n...        ...       ...       ...       ...  ...       ...       ...   \nWSM   0.021145  0.021045  0.020981  0.020972  ...  0.022048  0.022383   \nYEM   0.025532  0.026402  0.027332  0.028192  ...  0.039946  0.041259   \nZAF   0.092474  0.091607  0.104437  0.098355  ...  0.045206  0.040890   \nZMB   0.017229  0.017850  0.018352  0.018779  ...  0.025329  0.026050   \nZWE   0.113264  0.118143  0.123240  0.126281  ...  0.105789  0.108464   \n\nYear      2012      2013      2014      2015      2016      2017      2018  \\\nCode                                                                         \nAFG   0.053343  0.053865  0.054737  0.055858  0.056823  0.057970  0.058994   \nAGO   0.023306  0.024039  0.024339  0.025246  0.025873  0.027119  0.028209   \nALB   0.016141  0.016713  0.017728  0.018758  0.019295  0.019808  0.020268   \nAND   0.012121  0.012416  0.012826  0.013235  0.013464  0.013842  0.014121   \nARE   0.606297  0.620454  0.628419  0.636252  0.645846  0.653888  0.663690   \n...        ...       ...       ...       ...       ...       ...       ...   \nWSM   0.022772  0.022833  0.023251  0.023985  0.024716  0.025442  0.026143   \nYEM   0.042043  0.043374  0.044008  0.045210  0.046383  0.047686  0.049215   \nZAF   0.038072  0.035562  0.033326  0.030968  0.027870  0.025959  0.023435   \nZMB   0.026260  0.026653  0.027110  0.027607  0.028272  0.029181  0.029760   \nZWE   0.112786  0.118068  0.124809  0.133006  0.140110  0.146847  0.153208   \n\nYear      2019  \nCode            \nAFG   0.059789  \nAGO   0.028951  \nALB   0.020728  \nAND   0.014389  \nARE   0.672341  \n...        ...  \nWSM   0.026739  \nYEM   0.049768  \nZAF   0.021839  \nZMB   0.030130  \nZWE   0.159370  \n\n[205 rows x 31 columns]",
      "text/html": "<div>\n<style scoped>\n    .dataframe tbody tr th:only-of-type {\n        vertical-align: middle;\n    }\n\n    .dataframe tbody tr th {\n        vertical-align: top;\n    }\n\n    .dataframe thead th {\n        text-align: right;\n    }\n</style>\n<table border=\"1\" class=\"dataframe\">\n  <thead>\n    <tr style=\"text-align: right;\">\n      <th>Year</th>\n      <th>Entity</th>\n      <th>1990</th>\n      <th>1991</th>\n      <th>1992</th>\n      <th>1993</th>\n      <th>1994</th>\n      <th>1995</th>\n      <th>1996</th>\n      <th>1997</th>\n      <th>1998</th>\n      <th>...</th>\n      <th>2010</th>\n      <th>2011</th>\n      <th>2012</th>\n      <th>2013</th>\n      <th>2014</th>\n      <th>2015</th>\n      <th>2016</th>\n      <th>2017</th>\n      <th>2018</th>\n      <th>2019</th>\n    </tr>\n    <tr>\n      <th>Code</th>\n      <th></th>\n      <th></th>\n      <th></th>\n      <th></th>\n      <th></th>\n      <th></th>\n      <th></th>\n      <th></th>\n      <th></th>\n      <th></th>\n      <th></th>\n      <th></th>\n      <th></th>\n      <th></th>\n      <th></th>\n      <th></th>\n      <th></th>\n      <th></th>\n      <th></th>\n      <th></th>\n      <th></th>\n    </tr>\n  </thead>\n  <tbody>\n    <tr>\n      <th>AFG</th>\n      <td>Afghanistan</td>\n      <td>0.039427</td>\n      <td>0.039720</td>\n      <td>0.040313</td>\n      <td>0.041282</td>\n      <td>0.042203</td>\n      <td>0.042757</td>\n      <td>0.043227</td>\n      <td>0.043820</td>\n      <td>0.044234</td>\n      <td>...</td>\n      <td>0.052037</td>\n      <td>0.052579</td>\n      <td>0.053343</td>\n      <td>0.053865</td>\n      <td>0.054737</td>\n      <td>0.055858</td>\n      <td>0.056823</td>\n      <td>0.057970</td>\n      <td>0.058994</td>\n      <td>0.059789</td>\n    </tr>\n    <tr>\n      <th>AGO</th>\n      <td>Angola</td>\n      <td>0.015872</td>\n      <td>0.015988</td>\n      <td>0.016228</td>\n      <td>0.016562</td>\n      <td>0.016777</td>\n      <td>0.016468</td>\n      <td>0.015717</td>\n      <td>0.015577</td>\n      <td>0.016284</td>\n      <td>...</td>\n      <td>0.021239</td>\n      <td>0.022222</td>\n      <td>0.023306</td>\n      <td>0.024039</td>\n      <td>0.024339</td>\n      <td>0.025246</td>\n      <td>0.025873</td>\n      <td>0.027119</td>\n      <td>0.028209</td>\n      <td>0.028951</td>\n    </tr>\n    <tr>\n      <th>ALB</th>\n      <td>Albania</td>\n      <td>0.001465</td>\n      <td>0.002111</td>\n      <td>0.002464</td>\n      <td>0.003790</td>\n      <td>0.005654</td>\n      <td>0.007035</td>\n      <td>0.008206</td>\n      <td>0.008859</td>\n      <td>0.010921</td>\n      <td>...</td>\n      <td>0.015320</td>\n      <td>0.015727</td>\n      <td>0.016141</td>\n      <td>0.016713</td>\n      <td>0.017728</td>\n      <td>0.018758</td>\n      <td>0.019295</td>\n      <td>0.019808</td>\n      <td>0.020268</td>\n      <td>0.020728</td>\n    </tr>\n    <tr>\n      <th>AND</th>\n      <td>Andorra</td>\n      <td>0.009574</td>\n      <td>0.009798</td>\n      <td>0.009949</td>\n      <td>0.010001</td>\n      <td>0.009970</td>\n      <td>0.009865</td>\n      <td>0.009812</td>\n      <td>0.009767</td>\n      <td>0.009772</td>\n      <td>...</td>\n      <td>0.012056</td>\n      <td>0.011889</td>\n      <td>0.012121</td>\n      <td>0.012416</td>\n      <td>0.012826</td>\n      <td>0.013235</td>\n      <td>0.013464</td>\n      <td>0.013842</td>\n      <td>0.014121</td>\n      <td>0.014389</td>\n    </tr>\n    <tr>\n      <th>ARE</th>\n      <td>United Arab Emirates</td>\n      <td>0.199454</td>\n      <td>0.216925</td>\n      <td>0.236998</td>\n      <td>0.258539</td>\n      <td>0.280758</td>\n      <td>0.305722</td>\n      <td>0.330694</td>\n      <td>0.359268</td>\n      <td>0.384823</td>\n      <td>...</td>\n      <td>0.590011</td>\n      <td>0.599523</td>\n      <td>0.606297</td>\n      <td>0.620454</td>\n      <td>0.628419</td>\n      <td>0.636252</td>\n      <td>0.645846</td>\n      <td>0.653888</td>\n      <td>0.663690</td>\n      <td>0.672341</td>\n    </tr>\n    <tr>\n      <th>...</th>\n      <td>...</td>\n      <td>...</td>\n      <td>...</td>\n      <td>...</td>\n      <td>...</td>\n      <td>...</td>\n      <td>...</td>\n      <td>...</td>\n      <td>...</td>\n      <td>...</td>\n      <td>...</td>\n      <td>...</td>\n      <td>...</td>\n      <td>...</td>\n      <td>...</td>\n      <td>...</td>\n      <td>...</td>\n      <td>...</td>\n      <td>...</td>\n      <td>...</td>\n      <td>...</td>\n    </tr>\n    <tr>\n      <th>WSM</th>\n      <td>Samoa</td>\n      <td>0.020597</td>\n      <td>0.020981</td>\n      <td>0.021249</td>\n      <td>0.021144</td>\n      <td>0.021110</td>\n      <td>0.021145</td>\n      <td>0.021045</td>\n      <td>0.020981</td>\n      <td>0.020972</td>\n      <td>...</td>\n      <td>0.022048</td>\n      <td>0.022383</td>\n      <td>0.022772</td>\n      <td>0.022833</td>\n      <td>0.023251</td>\n      <td>0.023985</td>\n      <td>0.024716</td>\n      <td>0.025442</td>\n      <td>0.026143</td>\n      <td>0.026739</td>\n    </tr>\n    <tr>\n      <th>YEM</th>\n      <td>Yemen</td>\n      <td>0.022960</td>\n      <td>0.023134</td>\n      <td>0.023574</td>\n      <td>0.024046</td>\n      <td>0.024670</td>\n      <td>0.025532</td>\n      <td>0.026402</td>\n      <td>0.027332</td>\n      <td>0.028192</td>\n      <td>...</td>\n      <td>0.039946</td>\n      <td>0.041259</td>\n      <td>0.042043</td>\n      <td>0.043374</td>\n      <td>0.044008</td>\n      <td>0.045210</td>\n      <td>0.046383</td>\n      <td>0.047686</td>\n      <td>0.049215</td>\n      <td>0.049768</td>\n    </tr>\n    <tr>\n      <th>ZAF</th>\n      <td>South Africa</td>\n      <td>0.083247</td>\n      <td>0.085878</td>\n      <td>0.093194</td>\n      <td>0.085748</td>\n      <td>0.090242</td>\n      <td>0.092474</td>\n      <td>0.091607</td>\n      <td>0.104437</td>\n      <td>0.098355</td>\n      <td>...</td>\n      <td>0.045206</td>\n      <td>0.040890</td>\n      <td>0.038072</td>\n      <td>0.035562</td>\n      <td>0.033326</td>\n      <td>0.030968</td>\n      <td>0.027870</td>\n      <td>0.025959</td>\n      <td>0.023435</td>\n      <td>0.021839</td>\n    </tr>\n    <tr>\n      <th>ZMB</th>\n      <td>Zambia</td>\n      <td>0.013639</td>\n      <td>0.014431</td>\n      <td>0.015078</td>\n      <td>0.015738</td>\n      <td>0.016432</td>\n      <td>0.017229</td>\n      <td>0.017850</td>\n      <td>0.018352</td>\n      <td>0.018779</td>\n      <td>...</td>\n      <td>0.025329</td>\n      <td>0.026050</td>\n      <td>0.026260</td>\n      <td>0.026653</td>\n      <td>0.027110</td>\n      <td>0.027607</td>\n      <td>0.028272</td>\n      <td>0.029181</td>\n      <td>0.029760</td>\n      <td>0.030130</td>\n    </tr>\n    <tr>\n      <th>ZWE</th>\n      <td>Zimbabwe</td>\n      <td>0.085371</td>\n      <td>0.087328</td>\n      <td>0.092967</td>\n      <td>0.097901</td>\n      <td>0.104990</td>\n      <td>0.113264</td>\n      <td>0.118143</td>\n      <td>0.123240</td>\n      <td>0.126281</td>\n      <td>...</td>\n      <td>0.105789</td>\n      <td>0.108464</td>\n      <td>0.112786</td>\n      <td>0.118068</td>\n      <td>0.124809</td>\n      <td>0.133006</td>\n      <td>0.140110</td>\n      <td>0.146847</td>\n      <td>0.153208</td>\n      <td>0.159370</td>\n    </tr>\n  </tbody>\n</table>\n<p>205 rows × 31 columns</p>\n</div>"
     },
     "execution_count": 94,
     "metadata": {},
     "output_type": "execute_result"
    }
   ],
   "source": [
    "df_pivot = df_2 .pivot_table(index=['Code', 'Entity'], columns='Year', values='Death_Cocaine')\n",
    "df_pivot = df_pivot.reset_index()\n",
    "df_pivot.set_index('Code')"
   ],
   "metadata": {
    "collapsed": false,
    "ExecuteTime": {
     "end_time": "2023-06-22T05:16:01.524807100Z",
     "start_time": "2023-06-22T05:16:01.328807Z"
    }
   }
  },
  {
   "cell_type": "code",
   "execution_count": 101,
   "outputs": [],
   "source": [
    "merged_df = pd.merge(df, df_pivot, on='Code')\n",
    "merged_df = merged_df.drop(['Unnamed: 67','Entity_y'],axis=1)\n",
    "correlation = merged_df.iloc[:, 2:].corr()"
   ],
   "metadata": {
    "collapsed": false,
    "ExecuteTime": {
     "end_time": "2023-06-22T05:19:39.900836400Z",
     "start_time": "2023-06-22T05:19:39.862215800Z"
    }
   }
  },
  {
   "cell_type": "code",
   "execution_count": 112,
   "outputs": [
    {
     "data": {
      "text/plain": "          1990      1991      1992      1993      1994      1995      1996  \\\n1990  1.000000  0.991881  0.989586  0.975823  0.964351  0.953817  0.963667   \n1991  0.991881  1.000000  0.990560  0.982355  0.973043  0.953718  0.967082   \n1992  0.989586  0.990560  1.000000  0.991938  0.984228  0.972189  0.971508   \n1993  0.975823  0.982355  0.991938  1.000000  0.993681  0.985478  0.981199   \n1994  0.964351  0.973043  0.984228  0.993681  1.000000  0.990165  0.988120   \n\n          1997      1998      1999  ...      2010      2011      2012  \\\n1990  0.974843  0.972716  0.957955  ...  0.104403  0.104354  0.104462   \n1991  0.971106  0.967962  0.962612  ...  0.136684  0.132833  0.126730   \n1992  0.866058  0.946856  0.946135  ...  0.129596  0.123550  0.114396   \n1993  0.878629  0.957549  0.959993  ...  0.181192  0.171069  0.159139   \n1994  0.869315  0.953327  0.955196  ...  0.217264  0.207494  0.196040   \n\n          2013      2014      2015      2016      2017      2018      2019  \n1990  0.102065  0.091212  0.079325  0.071058  0.064441  0.060260  0.055684  \n1991  0.118390  0.100983  0.082423  0.072838  0.065189  0.060536  0.055664  \n1992  0.103649  0.086545  0.066806  0.056035  0.047538  0.042715  0.037374  \n1993  0.144108  0.120905  0.093715  0.078974  0.067801  0.061886  0.055531  \n1994  0.177066  0.151573  0.120056  0.102862  0.090074  0.083200  0.076137  \n\n[5 rows x 63 columns]",
      "text/html": "<div>\n<style scoped>\n    .dataframe tbody tr th:only-of-type {\n        vertical-align: middle;\n    }\n\n    .dataframe tbody tr th {\n        vertical-align: top;\n    }\n\n    .dataframe thead th {\n        text-align: right;\n    }\n</style>\n<table border=\"1\" class=\"dataframe\">\n  <thead>\n    <tr style=\"text-align: right;\">\n      <th></th>\n      <th>1990</th>\n      <th>1991</th>\n      <th>1992</th>\n      <th>1993</th>\n      <th>1994</th>\n      <th>1995</th>\n      <th>1996</th>\n      <th>1997</th>\n      <th>1998</th>\n      <th>1999</th>\n      <th>...</th>\n      <th>2010</th>\n      <th>2011</th>\n      <th>2012</th>\n      <th>2013</th>\n      <th>2014</th>\n      <th>2015</th>\n      <th>2016</th>\n      <th>2017</th>\n      <th>2018</th>\n      <th>2019</th>\n    </tr>\n  </thead>\n  <tbody>\n    <tr>\n      <th>1990</th>\n      <td>1.000000</td>\n      <td>0.991881</td>\n      <td>0.989586</td>\n      <td>0.975823</td>\n      <td>0.964351</td>\n      <td>0.953817</td>\n      <td>0.963667</td>\n      <td>0.974843</td>\n      <td>0.972716</td>\n      <td>0.957955</td>\n      <td>...</td>\n      <td>0.104403</td>\n      <td>0.104354</td>\n      <td>0.104462</td>\n      <td>0.102065</td>\n      <td>0.091212</td>\n      <td>0.079325</td>\n      <td>0.071058</td>\n      <td>0.064441</td>\n      <td>0.060260</td>\n      <td>0.055684</td>\n    </tr>\n    <tr>\n      <th>1991</th>\n      <td>0.991881</td>\n      <td>1.000000</td>\n      <td>0.990560</td>\n      <td>0.982355</td>\n      <td>0.973043</td>\n      <td>0.953718</td>\n      <td>0.967082</td>\n      <td>0.971106</td>\n      <td>0.967962</td>\n      <td>0.962612</td>\n      <td>...</td>\n      <td>0.136684</td>\n      <td>0.132833</td>\n      <td>0.126730</td>\n      <td>0.118390</td>\n      <td>0.100983</td>\n      <td>0.082423</td>\n      <td>0.072838</td>\n      <td>0.065189</td>\n      <td>0.060536</td>\n      <td>0.055664</td>\n    </tr>\n    <tr>\n      <th>1992</th>\n      <td>0.989586</td>\n      <td>0.990560</td>\n      <td>1.000000</td>\n      <td>0.991938</td>\n      <td>0.984228</td>\n      <td>0.972189</td>\n      <td>0.971508</td>\n      <td>0.866058</td>\n      <td>0.946856</td>\n      <td>0.946135</td>\n      <td>...</td>\n      <td>0.129596</td>\n      <td>0.123550</td>\n      <td>0.114396</td>\n      <td>0.103649</td>\n      <td>0.086545</td>\n      <td>0.066806</td>\n      <td>0.056035</td>\n      <td>0.047538</td>\n      <td>0.042715</td>\n      <td>0.037374</td>\n    </tr>\n    <tr>\n      <th>1993</th>\n      <td>0.975823</td>\n      <td>0.982355</td>\n      <td>0.991938</td>\n      <td>1.000000</td>\n      <td>0.993681</td>\n      <td>0.985478</td>\n      <td>0.981199</td>\n      <td>0.878629</td>\n      <td>0.957549</td>\n      <td>0.959993</td>\n      <td>...</td>\n      <td>0.181192</td>\n      <td>0.171069</td>\n      <td>0.159139</td>\n      <td>0.144108</td>\n      <td>0.120905</td>\n      <td>0.093715</td>\n      <td>0.078974</td>\n      <td>0.067801</td>\n      <td>0.061886</td>\n      <td>0.055531</td>\n    </tr>\n    <tr>\n      <th>1994</th>\n      <td>0.964351</td>\n      <td>0.973043</td>\n      <td>0.984228</td>\n      <td>0.993681</td>\n      <td>1.000000</td>\n      <td>0.990165</td>\n      <td>0.988120</td>\n      <td>0.869315</td>\n      <td>0.953327</td>\n      <td>0.955196</td>\n      <td>...</td>\n      <td>0.217264</td>\n      <td>0.207494</td>\n      <td>0.196040</td>\n      <td>0.177066</td>\n      <td>0.151573</td>\n      <td>0.120056</td>\n      <td>0.102862</td>\n      <td>0.090074</td>\n      <td>0.083200</td>\n      <td>0.076137</td>\n    </tr>\n  </tbody>\n</table>\n<p>5 rows × 63 columns</p>\n</div>"
     },
     "execution_count": 112,
     "metadata": {},
     "output_type": "execute_result"
    }
   ],
   "source": [
    "correlation.head()"
   ],
   "metadata": {
    "collapsed": false,
    "ExecuteTime": {
     "end_time": "2023-06-22T05:27:02.957839400Z",
     "start_time": "2023-06-22T05:27:02.919068Z"
    }
   }
  },
  {
   "cell_type": "code",
   "execution_count": 113,
   "outputs": [],
   "source": [
    "correlation.to_csv('correlation_cocaine_crime.csv',decimal=',',header=True,index=False)"
   ],
   "metadata": {
    "collapsed": false,
    "ExecuteTime": {
     "end_time": "2023-06-22T05:29:15.756386400Z",
     "start_time": "2023-06-22T05:29:15.731394800Z"
    }
   }
  },
  {
   "cell_type": "code",
   "execution_count": null,
   "outputs": [],
   "source": [],
   "metadata": {
    "collapsed": false
   }
  }
 ],
 "metadata": {
  "kernelspec": {
   "display_name": "Python 3",
   "language": "python",
   "name": "python3"
  },
  "language_info": {
   "codemirror_mode": {
    "name": "ipython",
    "version": 2
   },
   "file_extension": ".py",
   "mimetype": "text/x-python",
   "name": "python",
   "nbconvert_exporter": "python",
   "pygments_lexer": "ipython2",
   "version": "2.7.6"
  }
 },
 "nbformat": 4,
 "nbformat_minor": 0
}
