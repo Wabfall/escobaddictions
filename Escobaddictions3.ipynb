{
 "cells": [
  {
   "cell_type": "markdown",
   "source": [
    "# PROJET - ESCOBADDICTIONS\n",
    "## 8PRO408 – Outils de programmation pour la science des données\n",
    "### Auteurs : Andonin COUSSEAU / Etienne CHEVROLLIER / Khassan TASSOUEV / Damien BALLET"
   ],
   "metadata": {
    "collapsed": false
   }
  },
  {
   "cell_type": "markdown",
   "source": [
    "--------"
   ],
   "metadata": {
    "collapsed": false
   }
  },
  {
   "cell_type": "markdown",
   "source": [
    "## Etude 3 - Evolution du taux de mortalité causé par les drogues\n",
    "\n",
    "[Lien Kaggle](https://www.kaggle.com/datasets/imdevskp/world-population-19602018)"
   ],
   "metadata": {
    "collapsed": false
   }
  },
  {
   "cell_type": "markdown",
   "source": [
    "------------"
   ],
   "metadata": {
    "collapsed": false
   }
  },
  {
   "cell_type": "code",
   "execution_count": 1,
   "outputs": [
    {
     "data": {
      "text/plain": "       Country Name  Year     Count\n0             Aruba  1960     54211\n1       Afghanistan  1960   8996973\n2            Angola  1960   5454933\n3           Albania  1960   1608800\n4           Andorra  1960     13411\n...             ...   ...       ...\n12590        Kosovo  2017   1830700\n12591   Yemen, Rep.  2017  27834821\n12592  South Africa  2017  57000451\n12593        Zambia  2017  16853688\n12594      Zimbabwe  2017  14236745\n\n[12595 rows x 3 columns]",
      "text/html": "<div>\n<style scoped>\n    .dataframe tbody tr th:only-of-type {\n        vertical-align: middle;\n    }\n\n    .dataframe tbody tr th {\n        vertical-align: top;\n    }\n\n    .dataframe thead th {\n        text-align: right;\n    }\n</style>\n<table border=\"1\" class=\"dataframe\">\n  <thead>\n    <tr style=\"text-align: right;\">\n      <th></th>\n      <th>Country Name</th>\n      <th>Year</th>\n      <th>Count</th>\n    </tr>\n  </thead>\n  <tbody>\n    <tr>\n      <th>0</th>\n      <td>Aruba</td>\n      <td>1960</td>\n      <td>54211</td>\n    </tr>\n    <tr>\n      <th>1</th>\n      <td>Afghanistan</td>\n      <td>1960</td>\n      <td>8996973</td>\n    </tr>\n    <tr>\n      <th>2</th>\n      <td>Angola</td>\n      <td>1960</td>\n      <td>5454933</td>\n    </tr>\n    <tr>\n      <th>3</th>\n      <td>Albania</td>\n      <td>1960</td>\n      <td>1608800</td>\n    </tr>\n    <tr>\n      <th>4</th>\n      <td>Andorra</td>\n      <td>1960</td>\n      <td>13411</td>\n    </tr>\n    <tr>\n      <th>...</th>\n      <td>...</td>\n      <td>...</td>\n      <td>...</td>\n    </tr>\n    <tr>\n      <th>12590</th>\n      <td>Kosovo</td>\n      <td>2017</td>\n      <td>1830700</td>\n    </tr>\n    <tr>\n      <th>12591</th>\n      <td>Yemen, Rep.</td>\n      <td>2017</td>\n      <td>27834821</td>\n    </tr>\n    <tr>\n      <th>12592</th>\n      <td>South Africa</td>\n      <td>2017</td>\n      <td>57000451</td>\n    </tr>\n    <tr>\n      <th>12593</th>\n      <td>Zambia</td>\n      <td>2017</td>\n      <td>16853688</td>\n    </tr>\n    <tr>\n      <th>12594</th>\n      <td>Zimbabwe</td>\n      <td>2017</td>\n      <td>14236745</td>\n    </tr>\n  </tbody>\n</table>\n<p>12595 rows × 3 columns</p>\n</div>"
     },
     "execution_count": 1,
     "metadata": {},
     "output_type": "execute_result"
    }
   ],
   "source": [
    "import pandas as pd\n",
    "\n",
    "df = pd.read_csv('')"
   ],
   "metadata": {
    "collapsed": false,
    "ExecuteTime": {
     "end_time": "2023-06-21T14:52:56.307253900Z",
     "start_time": "2023-06-21T14:52:55.593689200Z"
    }
   }
  },
  {
   "cell_type": "code",
   "execution_count": null,
   "outputs": [],
   "source": [],
   "metadata": {
    "collapsed": false
   }
  }
 ],
 "metadata": {
  "kernelspec": {
   "display_name": "Python 3",
   "language": "python",
   "name": "python3"
  },
  "language_info": {
   "codemirror_mode": {
    "name": "ipython",
    "version": 2
   },
   "file_extension": ".py",
   "mimetype": "text/x-python",
   "name": "python",
   "nbconvert_exporter": "python",
   "pygments_lexer": "ipython2",
   "version": "2.7.6"
  }
 },
 "nbformat": 4,
 "nbformat_minor": 0
}
