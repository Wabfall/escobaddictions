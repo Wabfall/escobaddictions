{
 "cells": [
  {
   "cell_type": "markdown",
   "source": [
    "# PROJET - ESCOBADDICTIONS\n",
    "## 8PRO408 – Outils de programmation pour la science des données\n",
    "### Auteurs : Andonin COUSSEAU / Etienne CHEVROLLIER / Khassan TASSOUEV / Damien BALLET"
   ],
   "metadata": {
    "collapsed": false
   }
  },
  {
   "cell_type": "markdown",
   "source": [
    "## Etude 1 - Les morts par type de drogues aux Etats-Unis"
   ],
   "metadata": {
    "collapsed": false
   }
  },
  {
   "cell_type": "code",
   "execution_count": 5,
   "outputs": [
    {
     "data": {
      "text/plain": "      Unnamed: 0       ID                    Date   Age     Sex          Race  \\\n0              0  14-0273  06/28/2014 12:00:00 AM   NaN     NaN           NaN   \n1              1  13-0102  03/21/2013 12:00:00 AM  48.0    Male         Black   \n2              2  16-0165  03/13/2016 12:00:00 AM  30.0  Female         White   \n3              3  16-0208  03/31/2016 12:00:00 AM  23.0    Male         White   \n4              4  13-0052  02/13/2013 12:00:00 AM  22.0    Male  Asian, Other   \n...          ...      ...                     ...   ...     ...           ...   \n5100        5100  15-0466  09/08/2015 12:00:00 AM  43.0    Male         White   \n5101        5101  17-0618  07/22/2017 12:00:00 AM  21.0    Male         White   \n5102        5102  18-0646  08/14/2018 12:00:00 AM  30.0    Male         White   \n5103        5103  14-0124  03/16/2014 12:00:00 AM  33.0    Male         White   \n5104        5104  16-0637  09/15/2016 12:00:00 AM  33.0    Male         White   \n\n      ResidenceCity ResidenceCounty ResidenceState  DeathCity  ...  \\\n0               NaN             NaN            NaN        NaN  ...   \n1           NORWALK             NaN            NaN    NORWALK  ...   \n2        SANDY HOOK       FAIRFIELD             CT    DANBURY  ...   \n3               RYE     WESTCHESTER             NY  GREENWICH  ...   \n4          FLUSHING          QUEENS            NaN  GREENWICH  ...   \n...             ...             ...            ...        ...  ...   \n5100       CHESHIRE       NEW HAVEN             CT   CHESHIRE  ...   \n5101        MADISON       NEW HAVEN             CT  NEW HAVEN  ...   \n5102  LAWRENCEVILLE           TIOGA             PA    DANBURY  ...   \n5103       HARTFORD             NaN            NaN    WINDSOR  ...   \n5104      THOMASTON      LITCHFIELD             CT  WATERBURY  ...   \n\n     Benzodiazepine Methadone Amphet Tramad Morphine_NotHeroin Hydromorphone  \\\n0                 Y       NaN    NaN    NaN                NaN           NaN   \n1               NaN       NaN    NaN    NaN                NaN           NaN   \n2               NaN       NaN    NaN    NaN                NaN           NaN   \n3               NaN       NaN    NaN    NaN                NaN           NaN   \n4               NaN       NaN    NaN    NaN                NaN           NaN   \n...             ...       ...    ...    ...                ...           ...   \n5100              Y       NaN    NaN    NaN                NaN           NaN   \n5101              Y       NaN    NaN    NaN                NaN           NaN   \n5102            NaN       NaN    NaN      Y                NaN           NaN   \n5103            NaN       NaN    NaN    NaN                NaN           NaN   \n5104            NaN       NaN    NaN    NaN                NaN           NaN   \n\n     Other OpiateNOS AnyOpioid MannerofDeath  \n0      NaN       NaN       NaN      Accident  \n1      NaN       NaN       NaN      Accident  \n2      NaN       NaN         Y      Accident  \n3      NaN       NaN         Y      Accident  \n4      NaN       NaN       NaN      Accident  \n...    ...       ...       ...           ...  \n5100   NaN       NaN       NaN      Accident  \n5101   NaN       NaN       NaN      Accident  \n5102   NaN       NaN         Y      Accident  \n5103   NaN       NaN       NaN      Accident  \n5104   NaN       NaN         Y      Accident  \n\n[5105 rows x 38 columns]",
      "text/html": "<div>\n<style scoped>\n    .dataframe tbody tr th:only-of-type {\n        vertical-align: middle;\n    }\n\n    .dataframe tbody tr th {\n        vertical-align: top;\n    }\n\n    .dataframe thead th {\n        text-align: right;\n    }\n</style>\n<table border=\"1\" class=\"dataframe\">\n  <thead>\n    <tr style=\"text-align: right;\">\n      <th></th>\n      <th>Unnamed: 0</th>\n      <th>ID</th>\n      <th>Date</th>\n      <th>Age</th>\n      <th>Sex</th>\n      <th>Race</th>\n      <th>ResidenceCity</th>\n      <th>ResidenceCounty</th>\n      <th>ResidenceState</th>\n      <th>DeathCity</th>\n      <th>...</th>\n      <th>Benzodiazepine</th>\n      <th>Methadone</th>\n      <th>Amphet</th>\n      <th>Tramad</th>\n      <th>Morphine_NotHeroin</th>\n      <th>Hydromorphone</th>\n      <th>Other</th>\n      <th>OpiateNOS</th>\n      <th>AnyOpioid</th>\n      <th>MannerofDeath</th>\n    </tr>\n  </thead>\n  <tbody>\n    <tr>\n      <th>0</th>\n      <td>0</td>\n      <td>14-0273</td>\n      <td>06/28/2014 12:00:00 AM</td>\n      <td>NaN</td>\n      <td>NaN</td>\n      <td>NaN</td>\n      <td>NaN</td>\n      <td>NaN</td>\n      <td>NaN</td>\n      <td>NaN</td>\n      <td>...</td>\n      <td>Y</td>\n      <td>NaN</td>\n      <td>NaN</td>\n      <td>NaN</td>\n      <td>NaN</td>\n      <td>NaN</td>\n      <td>NaN</td>\n      <td>NaN</td>\n      <td>NaN</td>\n      <td>Accident</td>\n    </tr>\n    <tr>\n      <th>1</th>\n      <td>1</td>\n      <td>13-0102</td>\n      <td>03/21/2013 12:00:00 AM</td>\n      <td>48.0</td>\n      <td>Male</td>\n      <td>Black</td>\n      <td>NORWALK</td>\n      <td>NaN</td>\n      <td>NaN</td>\n      <td>NORWALK</td>\n      <td>...</td>\n      <td>NaN</td>\n      <td>NaN</td>\n      <td>NaN</td>\n      <td>NaN</td>\n      <td>NaN</td>\n      <td>NaN</td>\n      <td>NaN</td>\n      <td>NaN</td>\n      <td>NaN</td>\n      <td>Accident</td>\n    </tr>\n    <tr>\n      <th>2</th>\n      <td>2</td>\n      <td>16-0165</td>\n      <td>03/13/2016 12:00:00 AM</td>\n      <td>30.0</td>\n      <td>Female</td>\n      <td>White</td>\n      <td>SANDY HOOK</td>\n      <td>FAIRFIELD</td>\n      <td>CT</td>\n      <td>DANBURY</td>\n      <td>...</td>\n      <td>NaN</td>\n      <td>NaN</td>\n      <td>NaN</td>\n      <td>NaN</td>\n      <td>NaN</td>\n      <td>NaN</td>\n      <td>NaN</td>\n      <td>NaN</td>\n      <td>Y</td>\n      <td>Accident</td>\n    </tr>\n    <tr>\n      <th>3</th>\n      <td>3</td>\n      <td>16-0208</td>\n      <td>03/31/2016 12:00:00 AM</td>\n      <td>23.0</td>\n      <td>Male</td>\n      <td>White</td>\n      <td>RYE</td>\n      <td>WESTCHESTER</td>\n      <td>NY</td>\n      <td>GREENWICH</td>\n      <td>...</td>\n      <td>NaN</td>\n      <td>NaN</td>\n      <td>NaN</td>\n      <td>NaN</td>\n      <td>NaN</td>\n      <td>NaN</td>\n      <td>NaN</td>\n      <td>NaN</td>\n      <td>Y</td>\n      <td>Accident</td>\n    </tr>\n    <tr>\n      <th>4</th>\n      <td>4</td>\n      <td>13-0052</td>\n      <td>02/13/2013 12:00:00 AM</td>\n      <td>22.0</td>\n      <td>Male</td>\n      <td>Asian, Other</td>\n      <td>FLUSHING</td>\n      <td>QUEENS</td>\n      <td>NaN</td>\n      <td>GREENWICH</td>\n      <td>...</td>\n      <td>NaN</td>\n      <td>NaN</td>\n      <td>NaN</td>\n      <td>NaN</td>\n      <td>NaN</td>\n      <td>NaN</td>\n      <td>NaN</td>\n      <td>NaN</td>\n      <td>NaN</td>\n      <td>Accident</td>\n    </tr>\n    <tr>\n      <th>...</th>\n      <td>...</td>\n      <td>...</td>\n      <td>...</td>\n      <td>...</td>\n      <td>...</td>\n      <td>...</td>\n      <td>...</td>\n      <td>...</td>\n      <td>...</td>\n      <td>...</td>\n      <td>...</td>\n      <td>...</td>\n      <td>...</td>\n      <td>...</td>\n      <td>...</td>\n      <td>...</td>\n      <td>...</td>\n      <td>...</td>\n      <td>...</td>\n      <td>...</td>\n      <td>...</td>\n    </tr>\n    <tr>\n      <th>5100</th>\n      <td>5100</td>\n      <td>15-0466</td>\n      <td>09/08/2015 12:00:00 AM</td>\n      <td>43.0</td>\n      <td>Male</td>\n      <td>White</td>\n      <td>CHESHIRE</td>\n      <td>NEW HAVEN</td>\n      <td>CT</td>\n      <td>CHESHIRE</td>\n      <td>...</td>\n      <td>Y</td>\n      <td>NaN</td>\n      <td>NaN</td>\n      <td>NaN</td>\n      <td>NaN</td>\n      <td>NaN</td>\n      <td>NaN</td>\n      <td>NaN</td>\n      <td>NaN</td>\n      <td>Accident</td>\n    </tr>\n    <tr>\n      <th>5101</th>\n      <td>5101</td>\n      <td>17-0618</td>\n      <td>07/22/2017 12:00:00 AM</td>\n      <td>21.0</td>\n      <td>Male</td>\n      <td>White</td>\n      <td>MADISON</td>\n      <td>NEW HAVEN</td>\n      <td>CT</td>\n      <td>NEW HAVEN</td>\n      <td>...</td>\n      <td>Y</td>\n      <td>NaN</td>\n      <td>NaN</td>\n      <td>NaN</td>\n      <td>NaN</td>\n      <td>NaN</td>\n      <td>NaN</td>\n      <td>NaN</td>\n      <td>NaN</td>\n      <td>Accident</td>\n    </tr>\n    <tr>\n      <th>5102</th>\n      <td>5102</td>\n      <td>18-0646</td>\n      <td>08/14/2018 12:00:00 AM</td>\n      <td>30.0</td>\n      <td>Male</td>\n      <td>White</td>\n      <td>LAWRENCEVILLE</td>\n      <td>TIOGA</td>\n      <td>PA</td>\n      <td>DANBURY</td>\n      <td>...</td>\n      <td>NaN</td>\n      <td>NaN</td>\n      <td>NaN</td>\n      <td>Y</td>\n      <td>NaN</td>\n      <td>NaN</td>\n      <td>NaN</td>\n      <td>NaN</td>\n      <td>Y</td>\n      <td>Accident</td>\n    </tr>\n    <tr>\n      <th>5103</th>\n      <td>5103</td>\n      <td>14-0124</td>\n      <td>03/16/2014 12:00:00 AM</td>\n      <td>33.0</td>\n      <td>Male</td>\n      <td>White</td>\n      <td>HARTFORD</td>\n      <td>NaN</td>\n      <td>NaN</td>\n      <td>WINDSOR</td>\n      <td>...</td>\n      <td>NaN</td>\n      <td>NaN</td>\n      <td>NaN</td>\n      <td>NaN</td>\n      <td>NaN</td>\n      <td>NaN</td>\n      <td>NaN</td>\n      <td>NaN</td>\n      <td>NaN</td>\n      <td>Accident</td>\n    </tr>\n    <tr>\n      <th>5104</th>\n      <td>5104</td>\n      <td>16-0637</td>\n      <td>09/15/2016 12:00:00 AM</td>\n      <td>33.0</td>\n      <td>Male</td>\n      <td>White</td>\n      <td>THOMASTON</td>\n      <td>LITCHFIELD</td>\n      <td>CT</td>\n      <td>WATERBURY</td>\n      <td>...</td>\n      <td>NaN</td>\n      <td>NaN</td>\n      <td>NaN</td>\n      <td>NaN</td>\n      <td>NaN</td>\n      <td>NaN</td>\n      <td>NaN</td>\n      <td>NaN</td>\n      <td>Y</td>\n      <td>Accident</td>\n    </tr>\n  </tbody>\n</table>\n<p>5105 rows × 38 columns</p>\n</div>"
     },
     "metadata": {},
     "output_type": "display_data"
    }
   ],
   "source": [
    "import pandas as pd\n",
    "\n",
    "# Chargement du fichier CSV Kaggle dans un DataFrame\n",
    "df = pd.read_csv(\".\\\\data\\\\drug_related_death_classification.csv\")\n",
    "display(df)"
   ],
   "metadata": {
    "collapsed": false,
    "ExecuteTime": {
     "end_time": "2023-06-19T14:18:33.129506900Z",
     "start_time": "2023-06-19T14:18:33.020637600Z"
    }
   }
  },
  {
   "cell_type": "markdown",
   "source": [
    "Traduction et récupération des données intéressantes"
   ],
   "metadata": {
    "collapsed": false
   }
  },
  {
   "cell_type": "code",
   "execution_count": 6,
   "outputs": [
    {
     "data": {
      "text/plain": "       age    sexe lieu_deces  \\\n0      NaN     NaN        NaN   \n1     48.0    Male   Hospital   \n2     30.0  Female   Hospital   \n3     23.0    Male   Hospital   \n4     22.0    Male   Hospital   \n...    ...     ...        ...   \n5100  43.0    Male  Residence   \n5101  21.0    Male   Hospital   \n5102  30.0    Male      Other   \n5103  33.0    Male      Other   \n5104  33.0    Male      Other   \n\n                                        drogues_ingeres  \n0               [Fentanyl, Hydrocodone, Benzodiazépine]  \n1                                             [Cocaïne]  \n2                           [Héroïne, Cocaïne, Opioïde]  \n3                          [Héroïne, Fentanyl, Opioïde]  \n4                                            [Fentanyl]  \n...                                                 ...  \n5100                           [Alcool, Benzodiazépine]  \n5101                          [Héroïne, Benzodiazépine]  \n5102  [Héroïne, Fentanyl, Fentanyl Analogue, Tramado...  \n5103                                         [Fentanyl]  \n5104                                 [Héroïne, Opioïde]  \n\n[5105 rows x 4 columns]",
      "text/html": "<div>\n<style scoped>\n    .dataframe tbody tr th:only-of-type {\n        vertical-align: middle;\n    }\n\n    .dataframe tbody tr th {\n        vertical-align: top;\n    }\n\n    .dataframe thead th {\n        text-align: right;\n    }\n</style>\n<table border=\"1\" class=\"dataframe\">\n  <thead>\n    <tr style=\"text-align: right;\">\n      <th></th>\n      <th>age</th>\n      <th>sexe</th>\n      <th>lieu_deces</th>\n      <th>drogues_ingeres</th>\n    </tr>\n  </thead>\n  <tbody>\n    <tr>\n      <th>0</th>\n      <td>NaN</td>\n      <td>NaN</td>\n      <td>NaN</td>\n      <td>[Fentanyl, Hydrocodone, Benzodiazépine]</td>\n    </tr>\n    <tr>\n      <th>1</th>\n      <td>48.0</td>\n      <td>Male</td>\n      <td>Hospital</td>\n      <td>[Cocaïne]</td>\n    </tr>\n    <tr>\n      <th>2</th>\n      <td>30.0</td>\n      <td>Female</td>\n      <td>Hospital</td>\n      <td>[Héroïne, Cocaïne, Opioïde]</td>\n    </tr>\n    <tr>\n      <th>3</th>\n      <td>23.0</td>\n      <td>Male</td>\n      <td>Hospital</td>\n      <td>[Héroïne, Fentanyl, Opioïde]</td>\n    </tr>\n    <tr>\n      <th>4</th>\n      <td>22.0</td>\n      <td>Male</td>\n      <td>Hospital</td>\n      <td>[Fentanyl]</td>\n    </tr>\n    <tr>\n      <th>...</th>\n      <td>...</td>\n      <td>...</td>\n      <td>...</td>\n      <td>...</td>\n    </tr>\n    <tr>\n      <th>5100</th>\n      <td>43.0</td>\n      <td>Male</td>\n      <td>Residence</td>\n      <td>[Alcool, Benzodiazépine]</td>\n    </tr>\n    <tr>\n      <th>5101</th>\n      <td>21.0</td>\n      <td>Male</td>\n      <td>Hospital</td>\n      <td>[Héroïne, Benzodiazépine]</td>\n    </tr>\n    <tr>\n      <th>5102</th>\n      <td>30.0</td>\n      <td>Male</td>\n      <td>Other</td>\n      <td>[Héroïne, Fentanyl, Fentanyl Analogue, Tramado...</td>\n    </tr>\n    <tr>\n      <th>5103</th>\n      <td>33.0</td>\n      <td>Male</td>\n      <td>Other</td>\n      <td>[Fentanyl]</td>\n    </tr>\n    <tr>\n      <th>5104</th>\n      <td>33.0</td>\n      <td>Male</td>\n      <td>Other</td>\n      <td>[Héroïne, Opioïde]</td>\n    </tr>\n  </tbody>\n</table>\n<p>5105 rows × 4 columns</p>\n</div>"
     },
     "metadata": {},
     "output_type": "display_data"
    }
   ],
   "source": [
    "# Création de la base du DataFrame\n",
    "df_morts_drogues = pd.DataFrame(columns=['age', 'sexe', 'lieu_deces', 'drogues_ingeres'])\n",
    "\n",
    "df_morts_drogues['age'] = df['Age']\n",
    "df_morts_drogues['sexe'] = df['Sex']\n",
    "df_morts_drogues['lieu_deces'] = df['Location']\n",
    "\n",
    "def recupere_drogues_ingeres(row):\n",
    "    liste_drogues = [\n",
    "        ('Heroin', 'Héroïne'),\n",
    "        ('Cocaine', 'Cocaïne'),\n",
    "        ('Fentanyl', 'Fentanyl'),\n",
    "        ('FentanylAnalogue', 'Fentanyl Analogue'),\n",
    "        ('Oxycodone', 'Oxycodone'),\n",
    "        ('Oxymorphone', 'Oxymorphone'),\n",
    "        ('Ethanol', 'Alcool'),\n",
    "        ('Hydrocodone', 'Hydrocodone'),\n",
    "        ('Benzodiazepine', 'Benzodiazépine'),\n",
    "        ('Amphet', 'Amphétamine'),\n",
    "        ('Tramad', 'Tramadol'),\n",
    "        ('Morphine_NotHeroin', 'Morphine'),\n",
    "        ('Hydromorphone', 'Hydromorphone'),\n",
    "        ('Other', 'Autres'),\n",
    "        ('OpiateNOS', 'Opiacé'),\n",
    "        ('AnyOpioid', 'Opioïde')\n",
    "    ]\n",
    "    drogues = []\n",
    "    for col in liste_drogues:\n",
    "        if col[0] in df.columns and row[col[0]] == 'Y':\n",
    "            drogues.append(col[1])\n",
    "    return drogues\n",
    "\n",
    "df_morts_drogues['drogues_ingeres'] = df.apply(recupere_drogues_ingeres, axis=1)\n",
    "\n",
    "display(df_morts_drogues)"
   ],
   "metadata": {
    "collapsed": false,
    "ExecuteTime": {
     "end_time": "2023-06-19T14:18:34.965146100Z",
     "start_time": "2023-06-19T14:18:34.572884800Z"
    }
   }
  },
  {
   "cell_type": "markdown",
   "source": [
    "Exportation du DataFrame"
   ],
   "metadata": {
    "collapsed": false
   }
  },
  {
   "cell_type": "code",
   "execution_count": 8,
   "outputs": [],
   "source": [
    "# Exporter le dataframe en json\n",
    "df_morts_drogues.to_json('.\\\\df_morts_par_drogue.json', orient='records')"
   ],
   "metadata": {
    "collapsed": false,
    "ExecuteTime": {
     "end_time": "2023-06-19T14:19:41.813351100Z",
     "start_time": "2023-06-19T14:19:41.781592900Z"
    }
   }
  },
  {
   "cell_type": "markdown",
   "source": [],
   "metadata": {
    "collapsed": false
   }
  }
 ],
 "metadata": {
  "kernelspec": {
   "display_name": "Python 3",
   "language": "python",
   "name": "python3"
  },
  "language_info": {
   "codemirror_mode": {
    "name": "ipython",
    "version": 2
   },
   "file_extension": ".py",
   "mimetype": "text/x-python",
   "name": "python",
   "nbconvert_exporter": "python",
   "pygments_lexer": "ipython2",
   "version": "2.7.6"
  }
 },
 "nbformat": 4,
 "nbformat_minor": 0
}
