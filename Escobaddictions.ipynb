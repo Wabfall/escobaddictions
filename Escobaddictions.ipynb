{
 "cells": [
  {
   "cell_type": "markdown",
   "source": [
    "# PROJET - ESCOBADDICTIONS\n",
    "## 8PRO408 – Outils de programmation pour la science des données\n",
    "### Auteurs : Andonin COUSSEAU / Etienne CHEVROLLIER / Khassan TASSOUEV / Damien BALLET"
   ],
   "metadata": {
    "collapsed": false
   }
  },
  {
   "cell_type": "markdown",
   "source": [
    "## Etude 1 - Les morts par type de drogues aux Etats-Unis"
   ],
   "metadata": {
    "collapsed": false
   }
  },
  {
   "cell_type": "markdown",
   "source": [],
   "metadata": {
    "collapsed": false
   }
  },
  {
   "cell_type": "code",
   "execution_count": 1,
   "outputs": [
    {
     "data": {
      "text/plain": "      Unnamed: 0       ID                    Date   Age     Sex          Race  \\\n0              0  14-0273  06/28/2014 12:00:00 AM   NaN     NaN           NaN   \n1              1  13-0102  03/21/2013 12:00:00 AM  48.0    Male         Black   \n2              2  16-0165  03/13/2016 12:00:00 AM  30.0  Female         White   \n3              3  16-0208  03/31/2016 12:00:00 AM  23.0    Male         White   \n4              4  13-0052  02/13/2013 12:00:00 AM  22.0    Male  Asian, Other   \n...          ...      ...                     ...   ...     ...           ...   \n5100        5100  15-0466  09/08/2015 12:00:00 AM  43.0    Male         White   \n5101        5101  17-0618  07/22/2017 12:00:00 AM  21.0    Male         White   \n5102        5102  18-0646  08/14/2018 12:00:00 AM  30.0    Male         White   \n5103        5103  14-0124  03/16/2014 12:00:00 AM  33.0    Male         White   \n5104        5104  16-0637  09/15/2016 12:00:00 AM  33.0    Male         White   \n\n      ResidenceCity ResidenceCounty ResidenceState  DeathCity  ...  \\\n0               NaN             NaN            NaN        NaN  ...   \n1           NORWALK             NaN            NaN    NORWALK  ...   \n2        SANDY HOOK       FAIRFIELD             CT    DANBURY  ...   \n3               RYE     WESTCHESTER             NY  GREENWICH  ...   \n4          FLUSHING          QUEENS            NaN  GREENWICH  ...   \n...             ...             ...            ...        ...  ...   \n5100       CHESHIRE       NEW HAVEN             CT   CHESHIRE  ...   \n5101        MADISON       NEW HAVEN             CT  NEW HAVEN  ...   \n5102  LAWRENCEVILLE           TIOGA             PA    DANBURY  ...   \n5103       HARTFORD             NaN            NaN    WINDSOR  ...   \n5104      THOMASTON      LITCHFIELD             CT  WATERBURY  ...   \n\n     Benzodiazepine Methadone Amphet Tramad Morphine_NotHeroin Hydromorphone  \\\n0                 Y       NaN    NaN    NaN                NaN           NaN   \n1               NaN       NaN    NaN    NaN                NaN           NaN   \n2               NaN       NaN    NaN    NaN                NaN           NaN   \n3               NaN       NaN    NaN    NaN                NaN           NaN   \n4               NaN       NaN    NaN    NaN                NaN           NaN   \n...             ...       ...    ...    ...                ...           ...   \n5100              Y       NaN    NaN    NaN                NaN           NaN   \n5101              Y       NaN    NaN    NaN                NaN           NaN   \n5102            NaN       NaN    NaN      Y                NaN           NaN   \n5103            NaN       NaN    NaN    NaN                NaN           NaN   \n5104            NaN       NaN    NaN    NaN                NaN           NaN   \n\n     Other OpiateNOS AnyOpioid MannerofDeath  \n0      NaN       NaN       NaN      Accident  \n1      NaN       NaN       NaN      Accident  \n2      NaN       NaN         Y      Accident  \n3      NaN       NaN         Y      Accident  \n4      NaN       NaN       NaN      Accident  \n...    ...       ...       ...           ...  \n5100   NaN       NaN       NaN      Accident  \n5101   NaN       NaN       NaN      Accident  \n5102   NaN       NaN         Y      Accident  \n5103   NaN       NaN       NaN      Accident  \n5104   NaN       NaN         Y      Accident  \n\n[5105 rows x 38 columns]",
      "text/html": "<div>\n<style scoped>\n    .dataframe tbody tr th:only-of-type {\n        vertical-align: middle;\n    }\n\n    .dataframe tbody tr th {\n        vertical-align: top;\n    }\n\n    .dataframe thead th {\n        text-align: right;\n    }\n</style>\n<table border=\"1\" class=\"dataframe\">\n  <thead>\n    <tr style=\"text-align: right;\">\n      <th></th>\n      <th>Unnamed: 0</th>\n      <th>ID</th>\n      <th>Date</th>\n      <th>Age</th>\n      <th>Sex</th>\n      <th>Race</th>\n      <th>ResidenceCity</th>\n      <th>ResidenceCounty</th>\n      <th>ResidenceState</th>\n      <th>DeathCity</th>\n      <th>...</th>\n      <th>Benzodiazepine</th>\n      <th>Methadone</th>\n      <th>Amphet</th>\n      <th>Tramad</th>\n      <th>Morphine_NotHeroin</th>\n      <th>Hydromorphone</th>\n      <th>Other</th>\n      <th>OpiateNOS</th>\n      <th>AnyOpioid</th>\n      <th>MannerofDeath</th>\n    </tr>\n  </thead>\n  <tbody>\n    <tr>\n      <th>0</th>\n      <td>0</td>\n      <td>14-0273</td>\n      <td>06/28/2014 12:00:00 AM</td>\n      <td>NaN</td>\n      <td>NaN</td>\n      <td>NaN</td>\n      <td>NaN</td>\n      <td>NaN</td>\n      <td>NaN</td>\n      <td>NaN</td>\n      <td>...</td>\n      <td>Y</td>\n      <td>NaN</td>\n      <td>NaN</td>\n      <td>NaN</td>\n      <td>NaN</td>\n      <td>NaN</td>\n      <td>NaN</td>\n      <td>NaN</td>\n      <td>NaN</td>\n      <td>Accident</td>\n    </tr>\n    <tr>\n      <th>1</th>\n      <td>1</td>\n      <td>13-0102</td>\n      <td>03/21/2013 12:00:00 AM</td>\n      <td>48.0</td>\n      <td>Male</td>\n      <td>Black</td>\n      <td>NORWALK</td>\n      <td>NaN</td>\n      <td>NaN</td>\n      <td>NORWALK</td>\n      <td>...</td>\n      <td>NaN</td>\n      <td>NaN</td>\n      <td>NaN</td>\n      <td>NaN</td>\n      <td>NaN</td>\n      <td>NaN</td>\n      <td>NaN</td>\n      <td>NaN</td>\n      <td>NaN</td>\n      <td>Accident</td>\n    </tr>\n    <tr>\n      <th>2</th>\n      <td>2</td>\n      <td>16-0165</td>\n      <td>03/13/2016 12:00:00 AM</td>\n      <td>30.0</td>\n      <td>Female</td>\n      <td>White</td>\n      <td>SANDY HOOK</td>\n      <td>FAIRFIELD</td>\n      <td>CT</td>\n      <td>DANBURY</td>\n      <td>...</td>\n      <td>NaN</td>\n      <td>NaN</td>\n      <td>NaN</td>\n      <td>NaN</td>\n      <td>NaN</td>\n      <td>NaN</td>\n      <td>NaN</td>\n      <td>NaN</td>\n      <td>Y</td>\n      <td>Accident</td>\n    </tr>\n    <tr>\n      <th>3</th>\n      <td>3</td>\n      <td>16-0208</td>\n      <td>03/31/2016 12:00:00 AM</td>\n      <td>23.0</td>\n      <td>Male</td>\n      <td>White</td>\n      <td>RYE</td>\n      <td>WESTCHESTER</td>\n      <td>NY</td>\n      <td>GREENWICH</td>\n      <td>...</td>\n      <td>NaN</td>\n      <td>NaN</td>\n      <td>NaN</td>\n      <td>NaN</td>\n      <td>NaN</td>\n      <td>NaN</td>\n      <td>NaN</td>\n      <td>NaN</td>\n      <td>Y</td>\n      <td>Accident</td>\n    </tr>\n    <tr>\n      <th>4</th>\n      <td>4</td>\n      <td>13-0052</td>\n      <td>02/13/2013 12:00:00 AM</td>\n      <td>22.0</td>\n      <td>Male</td>\n      <td>Asian, Other</td>\n      <td>FLUSHING</td>\n      <td>QUEENS</td>\n      <td>NaN</td>\n      <td>GREENWICH</td>\n      <td>...</td>\n      <td>NaN</td>\n      <td>NaN</td>\n      <td>NaN</td>\n      <td>NaN</td>\n      <td>NaN</td>\n      <td>NaN</td>\n      <td>NaN</td>\n      <td>NaN</td>\n      <td>NaN</td>\n      <td>Accident</td>\n    </tr>\n    <tr>\n      <th>...</th>\n      <td>...</td>\n      <td>...</td>\n      <td>...</td>\n      <td>...</td>\n      <td>...</td>\n      <td>...</td>\n      <td>...</td>\n      <td>...</td>\n      <td>...</td>\n      <td>...</td>\n      <td>...</td>\n      <td>...</td>\n      <td>...</td>\n      <td>...</td>\n      <td>...</td>\n      <td>...</td>\n      <td>...</td>\n      <td>...</td>\n      <td>...</td>\n      <td>...</td>\n      <td>...</td>\n    </tr>\n    <tr>\n      <th>5100</th>\n      <td>5100</td>\n      <td>15-0466</td>\n      <td>09/08/2015 12:00:00 AM</td>\n      <td>43.0</td>\n      <td>Male</td>\n      <td>White</td>\n      <td>CHESHIRE</td>\n      <td>NEW HAVEN</td>\n      <td>CT</td>\n      <td>CHESHIRE</td>\n      <td>...</td>\n      <td>Y</td>\n      <td>NaN</td>\n      <td>NaN</td>\n      <td>NaN</td>\n      <td>NaN</td>\n      <td>NaN</td>\n      <td>NaN</td>\n      <td>NaN</td>\n      <td>NaN</td>\n      <td>Accident</td>\n    </tr>\n    <tr>\n      <th>5101</th>\n      <td>5101</td>\n      <td>17-0618</td>\n      <td>07/22/2017 12:00:00 AM</td>\n      <td>21.0</td>\n      <td>Male</td>\n      <td>White</td>\n      <td>MADISON</td>\n      <td>NEW HAVEN</td>\n      <td>CT</td>\n      <td>NEW HAVEN</td>\n      <td>...</td>\n      <td>Y</td>\n      <td>NaN</td>\n      <td>NaN</td>\n      <td>NaN</td>\n      <td>NaN</td>\n      <td>NaN</td>\n      <td>NaN</td>\n      <td>NaN</td>\n      <td>NaN</td>\n      <td>Accident</td>\n    </tr>\n    <tr>\n      <th>5102</th>\n      <td>5102</td>\n      <td>18-0646</td>\n      <td>08/14/2018 12:00:00 AM</td>\n      <td>30.0</td>\n      <td>Male</td>\n      <td>White</td>\n      <td>LAWRENCEVILLE</td>\n      <td>TIOGA</td>\n      <td>PA</td>\n      <td>DANBURY</td>\n      <td>...</td>\n      <td>NaN</td>\n      <td>NaN</td>\n      <td>NaN</td>\n      <td>Y</td>\n      <td>NaN</td>\n      <td>NaN</td>\n      <td>NaN</td>\n      <td>NaN</td>\n      <td>Y</td>\n      <td>Accident</td>\n    </tr>\n    <tr>\n      <th>5103</th>\n      <td>5103</td>\n      <td>14-0124</td>\n      <td>03/16/2014 12:00:00 AM</td>\n      <td>33.0</td>\n      <td>Male</td>\n      <td>White</td>\n      <td>HARTFORD</td>\n      <td>NaN</td>\n      <td>NaN</td>\n      <td>WINDSOR</td>\n      <td>...</td>\n      <td>NaN</td>\n      <td>NaN</td>\n      <td>NaN</td>\n      <td>NaN</td>\n      <td>NaN</td>\n      <td>NaN</td>\n      <td>NaN</td>\n      <td>NaN</td>\n      <td>NaN</td>\n      <td>Accident</td>\n    </tr>\n    <tr>\n      <th>5104</th>\n      <td>5104</td>\n      <td>16-0637</td>\n      <td>09/15/2016 12:00:00 AM</td>\n      <td>33.0</td>\n      <td>Male</td>\n      <td>White</td>\n      <td>THOMASTON</td>\n      <td>LITCHFIELD</td>\n      <td>CT</td>\n      <td>WATERBURY</td>\n      <td>...</td>\n      <td>NaN</td>\n      <td>NaN</td>\n      <td>NaN</td>\n      <td>NaN</td>\n      <td>NaN</td>\n      <td>NaN</td>\n      <td>NaN</td>\n      <td>NaN</td>\n      <td>Y</td>\n      <td>Accident</td>\n    </tr>\n  </tbody>\n</table>\n<p>5105 rows × 38 columns</p>\n</div>"
     },
     "metadata": {},
     "output_type": "display_data"
    }
   ],
   "source": [
    "import pandas as pd\n",
    "\n",
    "# Chargement du fichier CSV Kaggle dans un DataFrame\n",
    "df = pd.read_csv(\".\\\\data\\\\drug_related_death_classification.csv\")\n",
    "display(df)"
   ],
   "metadata": {
    "collapsed": false,
    "ExecuteTime": {
     "end_time": "2023-06-20T20:18:20.233757300Z",
     "start_time": "2023-06-20T20:18:18.038161400Z"
    }
   }
  },
  {
   "cell_type": "markdown",
   "source": [
    "Traduction et récupération des données intéressantes"
   ],
   "metadata": {
    "collapsed": false
   }
  },
  {
   "cell_type": "code",
   "execution_count": 2,
   "outputs": [
    {
     "name": "stderr",
     "output_type": "stream",
     "text": [
      "C:\\Users\\damie\\AppData\\Local\\Temp\\ipykernel_19876\\1610640130.py:45: RuntimeWarning: invalid value encountered in scalar divide\n",
      "  pourcentage_hommes = (drogue_rows['Sex'] == 'Male').sum() / total_rows * 100\n",
      "C:\\Users\\damie\\AppData\\Local\\Temp\\ipykernel_19876\\1610640130.py:46: RuntimeWarning: invalid value encountered in scalar divide\n",
      "  pourcentage_femmes = (drogue_rows['Sex'] == 'Female').sum() / total_rows * 100\n"
     ]
    },
    {
     "data": {
      "text/plain": "               drogue  pourcentage_mort  moyenne_age  pourcentage_hommes  \\\n0             Héroïne         49.539667    40.360617           78.647687   \n1             Cocaïne         29.794319    42.826316           74.819198   \n2            Fentanyl         43.643487    40.312668           78.904847   \n3   Fentanyl Analogue          7.619980    41.128535           78.663239   \n4           Oxycodone         11.890304    46.032949           66.227348   \n5         Oxymorphone          2.115573    44.361111           67.592593   \n6              Alcool         24.427032    43.819567           77.866881   \n7         Hydrocodone          2.311459    47.880342           52.542373   \n8      Benzodiazépine         26.307542    43.187034           65.376024   \n9         Amphétamine          3.114594    39.050314           69.811321   \n10           Tramadol          2.546523    48.476923           63.846154   \n11           Morphine          0.744368    48.973684           55.263158   \n12      Hydromorphone          0.489716    49.560000           60.000000   \n13             Autres          0.000000          NaN                 NaN   \n14             Opiacé          1.723800    44.693182           63.636364   \n15            Opioïde         48.188051    41.854819           75.691057   \n\n    pourcentage_femmes  \n0            21.312772  \n1            25.049310  \n2            20.870736  \n3            21.079692  \n4            33.607908  \n5            32.407407  \n6            21.972735  \n7            46.610169  \n8            34.475056  \n9            30.188679  \n10           35.384615  \n11           44.736842  \n12           36.000000  \n13                 NaN  \n14           36.363636  \n15           24.146341  ",
      "text/html": "<div>\n<style scoped>\n    .dataframe tbody tr th:only-of-type {\n        vertical-align: middle;\n    }\n\n    .dataframe tbody tr th {\n        vertical-align: top;\n    }\n\n    .dataframe thead th {\n        text-align: right;\n    }\n</style>\n<table border=\"1\" class=\"dataframe\">\n  <thead>\n    <tr style=\"text-align: right;\">\n      <th></th>\n      <th>drogue</th>\n      <th>pourcentage_mort</th>\n      <th>moyenne_age</th>\n      <th>pourcentage_hommes</th>\n      <th>pourcentage_femmes</th>\n    </tr>\n  </thead>\n  <tbody>\n    <tr>\n      <th>0</th>\n      <td>Héroïne</td>\n      <td>49.539667</td>\n      <td>40.360617</td>\n      <td>78.647687</td>\n      <td>21.312772</td>\n    </tr>\n    <tr>\n      <th>1</th>\n      <td>Cocaïne</td>\n      <td>29.794319</td>\n      <td>42.826316</td>\n      <td>74.819198</td>\n      <td>25.049310</td>\n    </tr>\n    <tr>\n      <th>2</th>\n      <td>Fentanyl</td>\n      <td>43.643487</td>\n      <td>40.312668</td>\n      <td>78.904847</td>\n      <td>20.870736</td>\n    </tr>\n    <tr>\n      <th>3</th>\n      <td>Fentanyl Analogue</td>\n      <td>7.619980</td>\n      <td>41.128535</td>\n      <td>78.663239</td>\n      <td>21.079692</td>\n    </tr>\n    <tr>\n      <th>4</th>\n      <td>Oxycodone</td>\n      <td>11.890304</td>\n      <td>46.032949</td>\n      <td>66.227348</td>\n      <td>33.607908</td>\n    </tr>\n    <tr>\n      <th>5</th>\n      <td>Oxymorphone</td>\n      <td>2.115573</td>\n      <td>44.361111</td>\n      <td>67.592593</td>\n      <td>32.407407</td>\n    </tr>\n    <tr>\n      <th>6</th>\n      <td>Alcool</td>\n      <td>24.427032</td>\n      <td>43.819567</td>\n      <td>77.866881</td>\n      <td>21.972735</td>\n    </tr>\n    <tr>\n      <th>7</th>\n      <td>Hydrocodone</td>\n      <td>2.311459</td>\n      <td>47.880342</td>\n      <td>52.542373</td>\n      <td>46.610169</td>\n    </tr>\n    <tr>\n      <th>8</th>\n      <td>Benzodiazépine</td>\n      <td>26.307542</td>\n      <td>43.187034</td>\n      <td>65.376024</td>\n      <td>34.475056</td>\n    </tr>\n    <tr>\n      <th>9</th>\n      <td>Amphétamine</td>\n      <td>3.114594</td>\n      <td>39.050314</td>\n      <td>69.811321</td>\n      <td>30.188679</td>\n    </tr>\n    <tr>\n      <th>10</th>\n      <td>Tramadol</td>\n      <td>2.546523</td>\n      <td>48.476923</td>\n      <td>63.846154</td>\n      <td>35.384615</td>\n    </tr>\n    <tr>\n      <th>11</th>\n      <td>Morphine</td>\n      <td>0.744368</td>\n      <td>48.973684</td>\n      <td>55.263158</td>\n      <td>44.736842</td>\n    </tr>\n    <tr>\n      <th>12</th>\n      <td>Hydromorphone</td>\n      <td>0.489716</td>\n      <td>49.560000</td>\n      <td>60.000000</td>\n      <td>36.000000</td>\n    </tr>\n    <tr>\n      <th>13</th>\n      <td>Autres</td>\n      <td>0.000000</td>\n      <td>NaN</td>\n      <td>NaN</td>\n      <td>NaN</td>\n    </tr>\n    <tr>\n      <th>14</th>\n      <td>Opiacé</td>\n      <td>1.723800</td>\n      <td>44.693182</td>\n      <td>63.636364</td>\n      <td>36.363636</td>\n    </tr>\n    <tr>\n      <th>15</th>\n      <td>Opioïde</td>\n      <td>48.188051</td>\n      <td>41.854819</td>\n      <td>75.691057</td>\n      <td>24.146341</td>\n    </tr>\n  </tbody>\n</table>\n</div>"
     },
     "metadata": {},
     "output_type": "display_data"
    }
   ],
   "source": [
    "import pandas as pd\n",
    "\n",
    "# Création de la base du DataFrame\n",
    "df_morts_drogues = pd.DataFrame(columns=['drogue', 'pourcentage_mort', 'moyenne_age', 'pourcentage_hommes', 'pourcentage_femmes'])\n",
    "\n",
    "# Liste des drogues à analyser\n",
    "liste_drogues = [\n",
    "    ('Heroin', 'Héroïne'),\n",
    "    ('Cocaine', 'Cocaïne'),\n",
    "    ('Fentanyl', 'Fentanyl'),\n",
    "    ('FentanylAnalogue', 'Fentanyl Analogue'),\n",
    "    ('Oxycodone', 'Oxycodone'),\n",
    "    ('Oxymorphone', 'Oxymorphone'),\n",
    "    ('Ethanol', 'Alcool'),\n",
    "    ('Hydrocodone', 'Hydrocodone'),\n",
    "    ('Benzodiazepine', 'Benzodiazépine'),\n",
    "    ('Amphet', 'Amphétamine'),\n",
    "    ('Tramad', 'Tramadol'),\n",
    "    ('Morphine_NotHeroin', 'Morphine'),\n",
    "    ('Hydromorphone', 'Hydromorphone'),\n",
    "    ('Other', 'Autres'),\n",
    "    ('OpiateNOS', 'Opiacé'),\n",
    "    ('AnyOpioid', 'Opioïde')\n",
    "]\n",
    "\n",
    "# Calcul des statistiques pour chaque drogue\n",
    "for drogue in liste_drogues:\n",
    "    drogue_col = drogue[0]\n",
    "    drogue_name = drogue[1]\n",
    "\n",
    "    # Filtrage des lignes correspondant à la drogue\n",
    "    drogue_rows = df[df[drogue_col] == 'Y'].copy()\n",
    "\n",
    "    # Calcul du pourcentage de morts pour cette drogue\n",
    "    pourcentage_mort = len(drogue_rows) / len(df) * 100\n",
    "\n",
    "    # Calcul de la moyenne d'âge pour cette drogue\n",
    "    moyenne_age = drogue_rows['Age'].mean()\n",
    "\n",
    "    # Remplacement des valeurs manquantes dans la colonne 'Sex' par une valeur par défaut ('Unknown')\n",
    "    drogue_rows.loc[:, 'Sex'] = drogue_rows['Sex'].fillna('Unknown')\n",
    "\n",
    "    # Calcul du pourcentage d'hommes et de femmes pour cette drogue\n",
    "    total_rows = len(drogue_rows)\n",
    "    pourcentage_hommes = (drogue_rows['Sex'] == 'Male').sum() / total_rows * 100\n",
    "    pourcentage_femmes = (drogue_rows['Sex'] == 'Female').sum() / total_rows * 100\n",
    "\n",
    "    # Création d'un DataFrame temporaire pour la drogue actuelle\n",
    "    temp_df = pd.DataFrame({\n",
    "        'drogue': [drogue_name],\n",
    "        'pourcentage_mort': [pourcentage_mort],\n",
    "        'moyenne_age': [moyenne_age],\n",
    "        'pourcentage_hommes': [pourcentage_hommes],\n",
    "        'pourcentage_femmes': [pourcentage_femmes]\n",
    "    })\n",
    "\n",
    "    # Concaténation du DataFrame temporaire avec df_morts_drogues\n",
    "    df_morts_drogues = pd.concat([df_morts_drogues, temp_df], ignore_index=True)\n",
    "\n",
    "# Affichage du DataFrame\n",
    "display(df_morts_drogues)\n"
   ],
   "metadata": {
    "collapsed": false,
    "ExecuteTime": {
     "end_time": "2023-06-20T20:18:23.027321900Z",
     "start_time": "2023-06-20T20:18:22.942590400Z"
    }
   }
  },
  {
   "cell_type": "markdown",
   "source": [
    "Exportation du DataFrame"
   ],
   "metadata": {
    "collapsed": false
   }
  },
  {
   "cell_type": "code",
   "execution_count": 4,
   "outputs": [],
   "source": [
    "# Exporter le dataframe en json\n",
    "df_morts_drogues.to_csv('.\\\\df_morts_par_drogue.csv', orient='records')"
   ],
   "metadata": {
    "collapsed": false,
    "ExecuteTime": {
     "end_time": "2023-06-20T20:18:33.066035600Z",
     "start_time": "2023-06-20T20:18:33.046680300Z"
    }
   }
  },
  {
   "cell_type": "markdown",
   "source": [],
   "metadata": {
    "collapsed": false
   }
  },
  {
   "cell_type": "code",
   "execution_count": null,
   "outputs": [],
   "source": [],
   "metadata": {
    "collapsed": false
   }
  }
 ],
 "metadata": {
  "kernelspec": {
   "display_name": "Python 3",
   "language": "python",
   "name": "python3"
  },
  "language_info": {
   "codemirror_mode": {
    "name": "ipython",
    "version": 2
   },
   "file_extension": ".py",
   "mimetype": "text/x-python",
   "name": "python",
   "nbconvert_exporter": "python",
   "pygments_lexer": "ipython2",
   "version": "2.7.6"
  }
 },
 "nbformat": 4,
 "nbformat_minor": 0
}
